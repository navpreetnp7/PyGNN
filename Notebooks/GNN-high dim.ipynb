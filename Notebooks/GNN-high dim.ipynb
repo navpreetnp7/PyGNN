{
 "cells": [
  {
   "cell_type": "code",
   "execution_count": 1,
   "metadata": {},
   "outputs": [],
   "source": [
    "from __future__ import division\n",
    "from __future__ import print_function\n",
    "\n",
    "import time\n",
    "import argparse\n",
    "import numpy as np\n",
    "\n",
    "import torch\n",
    "import torch.optim as optim\n",
    "\n",
    "from utils import load_data,normalize,toy_data,norm_embed,nmi_score\n",
    "\n",
    "import matplotlib.pyplot as plt \n",
    "\n",
    "from sklearn.utils import shuffle"
   ]
  },
  {
   "cell_type": "code",
   "execution_count": 2,
   "metadata": {},
   "outputs": [],
   "source": [
    "import torch.nn as nn\n",
    "import torch.nn.functional as F\n",
    "from layers import GraphConvolution, InnerProduct\n",
    "from utils import norm_embed\n",
    "import torch"
   ]
  },
  {
   "cell_type": "code",
   "execution_count": 3,
   "metadata": {},
   "outputs": [],
   "source": [
    "class GNN(nn.Module):\n",
    "    \n",
    "    def __init__(self, batch_size, nfeat, nhid, ndim, mu0, sigma0, fixed):\n",
    "        super(GNN, self).__init__()\n",
    "\n",
    "        self.gc1 = GraphConvolution(batch_size, nfeat, nhid, mu0, sigma0, scale=False)\n",
    "        self.fixed = fixed\n",
    "        if self.fixed:\n",
    "            self.embeddings = GraphConvolution(batch_size, nhid, 2*ndim, mu0, sigma0, scale=True)\n",
    "            self.reconstructions = InnerProduct(2*ndim)\n",
    "        else:\n",
    "            self.embeddings = GraphConvolution(batch_size, nhid, 4 * ndim, mu0, sigma0, scale=True)\n",
    "            self.reconstructions = InnerProduct(4*ndim)\n",
    "        \n",
    "\n",
    "    def forward(self, x, adj):\n",
    "        x = self.gc1(x, adj)\n",
    "        #x = self.embeddings(x, adj)\n",
    "        #x = norm_embed(x)\n",
    "        if self.fixed:\n",
    "            mu = F.relu(self.reconstructions(x))\n",
    "            return mu\n",
    "        else:\n",
    "            lr1, lr2 = torch.chunk(x, chunks=2, dim=2)\n",
    "            mu = F.relu(self.reconstructions(lr1))\n",
    "            sigma = F.relu(self.reconstructions(lr2))\n",
    "            return mu, sigma\n",
    "    "
   ]
  },
  {
   "cell_type": "code",
   "execution_count": 4,
   "metadata": {},
   "outputs": [],
   "source": [
    "np.set_printoptions(suppress=True)\n",
    "torch.set_printoptions(sci_mode=False,precision=8)"
   ]
  },
  {
   "cell_type": "code",
   "execution_count": 5,
   "metadata": {},
   "outputs": [],
   "source": [
    "# Training settings\n",
    "parser = argparse.ArgumentParser()\n",
    "parser.add_argument('--no-cuda', action='store_true', default=False,\n",
    "                    help='Disables CUDA training.')\n",
    "parser.add_argument('--fastmode', action='store_true', default=False,\n",
    "                    help='Validate during training pass.')\n",
    "parser.add_argument('--seed', type=int, default=426, help='Random seed.')\n",
    "parser.add_argument('--epochs', type=int, default=20001,\n",
    "                    help='Number of epochs to train.')\n",
    "parser.add_argument('--lr', type=float, default=0.0000001,\n",
    "                    help='Initial learning rate.')\n",
    "parser.add_argument('--weight_decay', type=float, default=10e-4,\n",
    "                    help='Weight decay (L2 loss on parameters).')\n",
    "parser.add_argument('--hidden', type=int, default=16,\n",
    "                    help='Number of hidden units.')\n",
    "parser.add_argument('--ndim', type=int, default=2,\n",
    "                    help='Embeddings dimension.')\n",
    "\n",
    "args = parser.parse_args(args=[])\n",
    "args.cuda = not args.no_cuda and torch.cuda.is_available()"
   ]
  },
  {
   "cell_type": "code",
   "execution_count": 6,
   "metadata": {},
   "outputs": [],
   "source": [
    "if 1:\n",
    "    # Taxi Dataset Graph\n",
    "    adj = load_data()\n",
    "    #adj = load_data(daily=True)\n",
    "else:\n",
    "    #Toy Example Graph\n",
    "    adj = toy_data()"
   ]
  },
  {
   "cell_type": "code",
   "execution_count": 7,
   "metadata": {},
   "outputs": [],
   "source": [
    "def svdApprox(adj,dim,relu=False):\n",
    "    adj = torch.FloatTensor(adj[0])\n",
    "    U, S, Vh = torch.linalg.svd(adj)\n",
    "    mu = torch.matmul(torch.matmul(U[:, :dim], torch.diag(S[:dim])), Vh[:dim, :])\n",
    "    \n",
    "    embedx = torch.matmul(U[:, :dim],torch.diag(torch.pow(S[:dim], 0.5)))\n",
    "    embedy = torch.transpose(torch.matmul(torch.diag(torch.pow(S[:dim], 0.5)),Vh[:dim, :]),0,1)\n",
    "    \n",
    "    criterion = torch.nn.GaussianNLLLoss()\n",
    "    if relu:\n",
    "        crt = torch.nn.ReLU()\n",
    "        mu = crt(mu)\n",
    "    mse = torch.nn.MSELoss()\n",
    "    mseloss = mse(torch.flatten(mu), torch.flatten(adj))\n",
    "    sig = torch.sqrt(mseloss)\n",
    "    sigma = sig * torch.ones(adj.shape)\n",
    "    loss = criterion(torch.flatten(adj), torch.flatten(mu), torch.flatten(torch.square(sigma)))\n",
    "    \n",
    "    return mu,sigma,loss.item(),embedx,embedy"
   ]
  },
  {
   "cell_type": "code",
   "execution_count": 8,
   "metadata": {},
   "outputs": [],
   "source": [
    "def GraphNeuralNet(adj,dim,fixed=False):\n",
    "    \n",
    "    # Set the random seed\n",
    "    np.random.seed(args.seed)\n",
    "    torch.manual_seed(args.seed)\n",
    "    if args.cuda:\n",
    "        torch.cuda.manual_seed(args.seed)\n",
    "        \n",
    "    args.ndim = dim\n",
    "    \n",
    "    adj_norm = normalize(adj)\n",
    "\n",
    "    adj = torch.FloatTensor(np.array(adj))\n",
    "    \n",
    "    # loss function\n",
    "    criterion = torch.nn.GaussianNLLLoss()\n",
    "    \n",
    "    \n",
    "    #features = torch.FloatTensor(torch.eye(adj.shape[1]))\n",
    "    #features = features.reshape((1,adj.shape[1],adj.shape[1]))\n",
    "    #features = features.repeat(adj.shape[0], 1, 1)\n",
    "    \n",
    "    # NULL Model\n",
    "    mu0 = adj.mean()*torch.ones(adj.shape[1:])\n",
    "    sigma0 = adj.std()*torch.ones(adj.shape[1:])\n",
    "    with torch.no_grad():\n",
    "        loss0 = criterion(torch.flatten(adj), torch.flatten(mu0), torch.flatten(torch.square(sigma0)))\n",
    "    \n",
    "    #svd features\n",
    "    svd_mu,svd_sig,svd_loss,svdembedx,svdembedy = svdApprox(adj=adj,dim=dim)\n",
    "    features = torch.cat((svdembedx,svdembedy),dim=1)\n",
    "    if not fixed:\n",
    "        mse = torch.nn.MSELoss()\n",
    "        mseloss = mse(torch.flatten(svd_mu),torch.flatten(adj))\n",
    "        sig = torch.sqrt(mseloss)/dim\n",
    "        svd_sig = torch.ones(features.shape)*torch.sqrt(sig)\n",
    "        features = torch.cat((features,svd_sig),dim=1)\n",
    "    features = features.unsqueeze(dim=0)\n",
    "    #with torch.no_grad():\n",
    "        #svd_loss = criterion(torch.flatten(adj), torch.flatten(svd_mu), torch.flatten(torch.square(svd_sig)))\n",
    "        #print(svd_loss)\n",
    "    \n",
    "    \n",
    "\n",
    "    # Model and optimizer\n",
    "    \"\"\"model = GNN(batch_size=adj.shape[0],\n",
    "                nfeat=features.shape[2],\n",
    "                nhid=args.hidden*args.ndim,\n",
    "                ndim=args.ndim,\n",
    "                mu0=adj.mean(),\n",
    "                sigma0=adj.std(),\n",
    "                fixed=fixed)\n",
    "\"\"\"\n",
    "    \n",
    "        \n",
    "        \n",
    "    model = GNN(batch_size=adj.shape[0],\n",
    "                nfeat=adj.shape[1],\n",
    "                nhid=adj.shape[1],\n",
    "                ndim=args.ndim,\n",
    "                mu0=adj.mean(),\n",
    "                sigma0=adj.std(),\n",
    "                fixed=fixed)\n",
    "    \n",
    "    \n",
    "    \"\"\"activation = {}\n",
    "    def get_activation(name):\n",
    "        def hook(model, input, output):\n",
    "            activation[name] = output.detach()\n",
    "        return hook\n",
    "\n",
    "    model.embeddings.register_forward_hook(get_activation('embeddings'))\"\"\"\n",
    "    \n",
    "\n",
    "    if args.cuda:\n",
    "        model.cuda()\n",
    "        features = features.cuda()\n",
    "        adj = adj.cuda()\n",
    "        adj_norm = adj_norm.cuda()\n",
    "\n",
    "\n",
    "    # Train model\n",
    "    t_total = time.time()\n",
    "    \n",
    "    # NULL Model\n",
    "    mu0 = adj.mean()*torch.ones(adj.shape[1:])\n",
    "    sigma0 = adj.std()*torch.ones(adj.shape[1:])\n",
    "    with torch.no_grad():\n",
    "        loss0 = criterion(torch.flatten(adj), torch.flatten(mu0), torch.flatten(torch.square(sigma0)))\n",
    "\n",
    "    optimizer = optim.Adam(model.parameters(),\n",
    "                           lr=args.lr, weight_decay=args.weight_decay)\n",
    "    \n",
    "    \n",
    "\n",
    "    for epoch in range(args.epochs):\n",
    "\n",
    "        t = time.time()\n",
    "        model.train()\n",
    "        optimizer.zero_grad()\n",
    "        \n",
    "        \n",
    "        #adj[0],features[0] = shuffle(adj[0],features[0]) # batch number\n",
    "        \n",
    "        \n",
    "        if fixed:\n",
    "            mu = model(features, adj_norm)\n",
    "            with torch.no_grad():\n",
    "                mse = torch.nn.MSELoss()\n",
    "                mseloss = mse(torch.flatten(mu),torch.flatten(adj))\n",
    "                sig = torch.sqrt(mseloss)\n",
    "            sigma = sig * torch.ones(adj.shape,requires_grad=True)\n",
    "        else:\n",
    "            mu,sigma = model(features, adj_norm)\n",
    "        \n",
    "        \n",
    "        loss = criterion(torch.flatten(adj), torch.flatten(mu), torch.flatten(torch.square(sigma))) \n",
    "        loss.backward()\n",
    "        optimizer.step()\n",
    "\n",
    "        if epoch == 0:\n",
    "            best_loss = loss\n",
    "        else:\n",
    "            if loss < best_loss:\n",
    "                best_loss = loss\n",
    "\n",
    "        if epoch % 5000 == 0:\n",
    "            print('Epoch: {:04d}'.format(epoch + 1),\n",
    "                  'loss: {:.8f}'.format(best_loss.item()))\n",
    "            \n",
    "\n",
    "    print(\"Optimization Finished!\")\n",
    "    print(\"Total time elapsed: {:.4f}s\".format(time.time() - t_total))\n",
    "    \n",
    "    \n",
    "    return mu,best_loss.item(),loss0\n"
   ]
  },
  {
   "cell_type": "code",
   "execution_count": 9,
   "metadata": {
    "scrolled": true
   },
   "outputs": [
    {
     "name": "stdout",
     "output_type": "stream",
     "text": [
      "Fixed Sigma dim 264\n",
      "Epoch: 0001 loss: -2.16319942\n",
      "Epoch: 5001 loss: -2.30668902\n",
      "Epoch: 10001 loss: -2.31101966\n",
      "Epoch: 15001 loss: -2.34482002\n",
      "Epoch: 20001 loss: -2.35187578\n",
      "Optimization Finished!\n",
      "Total time elapsed: 71.8987s\n",
      "Flexible Sigma dim 264\n",
      "Epoch: 0001 loss: -2.15404558\n",
      "Epoch: 5001 loss: -2.26086235\n",
      "Epoch: 10001 loss: -2.26086235\n",
      "Epoch: 15001 loss: -2.26086235\n",
      "Epoch: 20001 loss: -2.26086235\n",
      "Optimization Finished!\n",
      "Total time elapsed: 100.7693s\n",
      "Fixed Sigma dim 265\n",
      "Epoch: 0001 loss: -2.16338563\n",
      "Epoch: 5001 loss: -2.32835650\n",
      "Epoch: 10001 loss: -2.32835650\n",
      "Epoch: 15001 loss: -2.32835650\n",
      "Epoch: 20001 loss: -2.32835650\n",
      "Optimization Finished!\n",
      "Total time elapsed: 71.5488s\n",
      "Flexible Sigma dim 265\n",
      "Epoch: 0001 loss: -2.15420961\n",
      "Epoch: 5001 loss: -2.27956557\n",
      "Epoch: 10001 loss: -2.28386974\n",
      "Epoch: 15001 loss: -2.28386974\n",
      "Epoch: 20001 loss: -2.28386974\n",
      "Optimization Finished!\n",
      "Total time elapsed: 101.6607s\n",
      "Fixed Sigma dim 266\n",
      "Epoch: 0001 loss: -2.16338563\n",
      "Epoch: 5001 loss: -2.32835650\n",
      "Epoch: 10001 loss: -2.32835650\n",
      "Epoch: 15001 loss: -2.32835650\n",
      "Epoch: 20001 loss: -2.32835650\n",
      "Optimization Finished!\n",
      "Total time elapsed: 69.9318s\n",
      "Flexible Sigma dim 266\n",
      "Epoch: 0001 loss: -2.15487385\n",
      "Epoch: 5001 loss: -2.25985503\n",
      "Epoch: 10001 loss: -2.25985503\n",
      "Epoch: 15001 loss: -2.25985503\n",
      "Epoch: 20001 loss: -2.25985503\n",
      "Optimization Finished!\n",
      "Total time elapsed: 99.1419s\n",
      "Fixed Sigma dim 267\n",
      "Epoch: 0001 loss: -2.16338563\n",
      "Epoch: 5001 loss: -2.32835650\n",
      "Epoch: 10001 loss: -2.32835650\n",
      "Epoch: 15001 loss: -2.32835650\n",
      "Epoch: 20001 loss: -2.32835650\n",
      "Optimization Finished!\n",
      "Total time elapsed: 78.5768s\n",
      "Flexible Sigma dim 267\n",
      "Epoch: 0001 loss: -2.15551281\n",
      "Epoch: 5001 loss: -2.26659417\n",
      "Epoch: 10001 loss: -2.26659417\n",
      "Epoch: 15001 loss: -2.26659417\n",
      "Epoch: 20001 loss: -2.26659417\n",
      "Optimization Finished!\n",
      "Total time elapsed: 106.7274s\n",
      "Fixed Sigma dim 268\n",
      "Epoch: 0001 loss: -2.16338563\n",
      "Epoch: 5001 loss: -2.32835650\n",
      "Epoch: 10001 loss: -2.32835650\n",
      "Epoch: 15001 loss: -2.32835650\n",
      "Epoch: 20001 loss: -2.32835650\n",
      "Optimization Finished!\n",
      "Total time elapsed: 75.9564s\n",
      "Flexible Sigma dim 268\n",
      "Epoch: 0001 loss: -2.15612578\n",
      "Epoch: 5001 loss: -2.26624870\n",
      "Epoch: 10001 loss: -2.26624870\n",
      "Epoch: 15001 loss: -2.26624870\n",
      "Epoch: 20001 loss: -2.26624870\n",
      "Optimization Finished!\n",
      "Total time elapsed: 103.6098s\n",
      "Fixed Sigma dim 269\n",
      "Epoch: 0001 loss: -2.16338563\n",
      "Epoch: 5001 loss: -2.32835650\n",
      "Epoch: 10001 loss: -2.32835650\n",
      "Epoch: 15001 loss: -2.32835650\n",
      "Epoch: 20001 loss: -2.32835650\n",
      "Optimization Finished!\n",
      "Total time elapsed: 71.0061s\n",
      "Flexible Sigma dim 269\n",
      "Epoch: 0001 loss: -2.15671349\n",
      "Epoch: 5001 loss: -2.28754854\n",
      "Epoch: 10001 loss: -2.28862524\n",
      "Epoch: 15001 loss: -2.30268645\n",
      "Epoch: 20001 loss: -2.30268645\n",
      "Optimization Finished!\n",
      "Total time elapsed: 112.8357s\n"
     ]
    }
   ],
   "source": [
    "fix_loss = []\n",
    "nonfix_loss = []\n",
    "svd_loss = []\n",
    "svdrelu_loss = []\n",
    "nmi_fix = []\n",
    "nmi_nonfix = []\n",
    "nmi_svd = []\n",
    "nmi_svdrelu = []\n",
    "dims = [x for x in range(264,270)]\n",
    "for dim in dims:\n",
    "    print(\"Fixed Sigma dim {}\".format(dim))\n",
    "    mu,loss,loss0 = GraphNeuralNet(adj=adj,dim=dim,fixed=True)\n",
    "    fix_loss.append(loss)\n",
    "    nmi_fix.append(nmi_score(adj[0],mu.reshape(adj.shape[1:]).detach()))\n",
    "    print(\"Flexible Sigma dim {}\".format(dim))\n",
    "    mu,loss,loss0 = GraphNeuralNet(adj=adj,dim=dim)\n",
    "    nonfix_loss.append(loss)\n",
    "    nmi_nonfix.append(nmi_score(adj[0],mu.reshape(adj.shape[1:]).detach()))\n",
    "    mu,sig,loss,embedx,embedy = svdApprox(adj=adj,dim=dim)\n",
    "    svd_loss.append(loss)\n",
    "    nmi_svd.append(nmi_score(adj[0],mu.reshape(adj.shape[1:]).detach()))\n",
    "    mu,sig,loss,embedx,embedy = svdApprox(adj=adj,dim=dim,relu=True)\n",
    "    svdrelu_loss.append(loss)\n",
    "    nmi_svdrelu.append(nmi_score(adj[0],mu.reshape(adj.shape[1:]).detach()))"
   ]
  },
  {
   "cell_type": "code",
   "execution_count": 10,
   "metadata": {},
   "outputs": [
    {
     "name": "stdout",
     "output_type": "stream",
     "text": [
      "NMI Score\n",
      "Dim\t Nonfix\t Fix\t SVDRel\t SVD\n",
      "264\t 0.9836\t 0.9907\t 1.0000\t 1.0000\n",
      "265\t 0.9836\t 0.9907\t 0.9809\t 0.9809\n",
      "266\t 0.9836\t 0.9907\t 1.0000\t 1.0000\n",
      "267\t 0.9644\t 0.9907\t 0.9660\t 1.0000\n",
      "268\t 0.9836\t 0.9907\t 0.9820\t 0.9809\n",
      "269\t 0.9643\t 0.9907\t 0.9809\t 1.0000\n",
      "\n",
      " NLL0 = 11.34196949005127\n"
     ]
    },
    {
     "data": {
      "image/png": "[encoded data removed]",
      "text/plain": [
       "<Figure size 432x288 with 1 Axes>"
      ]
     },
     "metadata": {
      "needs_background": "light"
     },
     "output_type": "display_data"
    }
   ],
   "source": [
    "plt.plot(dims,fix_loss,label=\"Fixed Sigma\")\n",
    "plt.plot(dims,nonfix_loss,label=\"Flexible Sigma\")\n",
    "plt.plot(dims,svd_loss,label=\"SVD\")\n",
    "plt.plot(dims,svdrelu_loss,label=\"SVD Relu\")\n",
    "plt.xlabel(\"dim\")\n",
    "plt.ylabel(\"NLL\")\n",
    "plt.legend()\n",
    "print(\"NMI Score\")\n",
    "print(\"{}\\t {}\\t {}\\t {}\\t {}\".format(\"Dim\",\"Nonfix\",\"Fix\",\"SVDRel\",\"SVD\"))\n",
    "for i in range(len(dims)):\n",
    "    print(\"{}\\t {:.4f}\\t {:.4f}\\t {:.4f}\\t {:.4f}\".format(dims[i],nmi_nonfix[i-1],nmi_fix[i-1],nmi_svdrelu[i-1],nmi_svd[i-1]))\n",
    "print(\"\\n NLL0 = {}\".format(loss0))"
   ]
  },
  {
   "cell_type": "code",
   "execution_count": 11,
   "metadata": {},
   "outputs": [
    {
     "data": {
      "text/plain": [
       "Text(0, 0.5, 'NLL')"
      ]
     },
     "execution_count": 11,
     "metadata": {},
     "output_type": "execute_result"
    },
    {
     "data": {
      "image/png": "[encoded data removed]",
      "text/plain": [
       "<Figure size 432x288 with 1 Axes>"
      ]
     },
     "metadata": {
      "needs_background": "light"
     },
     "output_type": "display_data"
    }
   ],
   "source": [
    "plt.bar(dims,fix_loss,color ='lightblue',width = 0.2)\n",
    "plt.title(\"Fixed Sigma\")\n",
    "plt.xlabel(\"Dims\")\n",
    "plt.ylabel(\"NLL\")"
   ]
  },
  {
   "cell_type": "code",
   "execution_count": 12,
   "metadata": {},
   "outputs": [
    {
     "data": {
      "text/plain": [
       "Text(0, 0.5, 'NLL')"
      ]
     },
     "execution_count": 12,
     "metadata": {},
     "output_type": "execute_result"
    },
    {
     "data": {
      "image/png": "[encoded data removed]",
      "text/plain": [
       "<Figure size 432x288 with 1 Axes>"
      ]
     },
     "metadata": {
      "needs_background": "light"
     },
     "output_type": "display_data"
    }
   ],
   "source": [
    "plt.bar(dims,nonfix_loss,color ='red',width = 0.2)\n",
    "plt.title(\"Flexible Sigma\")\n",
    "plt.xlabel(\"Dims\")\n",
    "plt.ylabel(\"NLL\")"
   ]
  },
  {
   "cell_type": "code",
   "execution_count": null,
   "metadata": {},
   "outputs": [],
   "source": []
  }
 ],
 "metadata": {
  "kernelspec": {
   "display_name": "Python 3",
   "language": "python",
   "name": "python3"
  },
  "language_info": {
   "codemirror_mode": {
    "name": "ipython",
    "version": 3
   },
   "file_extension": ".py",
   "mimetype": "text/x-python",
   "name": "python",
   "nbconvert_exporter": "python",
   "pygments_lexer": "ipython3",
   "version": "3.8.7"
  }
 },
 "nbformat": 4,
 "nbformat_minor": 4
}
