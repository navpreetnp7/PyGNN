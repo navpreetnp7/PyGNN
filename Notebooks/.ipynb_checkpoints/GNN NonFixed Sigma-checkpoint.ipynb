{
 "cells": [
  {
   "cell_type": "code",
   "execution_count": 1,
   "metadata": {},
   "outputs": [],
   "source": [
    "from __future__ import division\n",
    "from __future__ import print_function\n",
    "\n",
    "import time\n",
    "import argparse\n",
    "import numpy as np\n",
    "\n",
    "import torch\n",
    "import torch.optim as optim\n",
    "\n",
    "from utils import load_data,normalize,toy_data,norm_embed,nmi_score\n",
    "\n",
    "import matplotlib.pyplot as plt "
   ]
  },
  {
   "cell_type": "code",
   "execution_count": 2,
   "metadata": {},
   "outputs": [],
   "source": [
    "import torch.nn as nn\n",
    "import torch.nn.functional as F\n",
    "from layers import GraphConvolution, InnerProduct\n",
    "from utils import norm_embed\n",
    "import torch"
   ]
  },
  {
   "cell_type": "code",
   "execution_count": 3,
   "metadata": {},
   "outputs": [],
   "source": [
    "class GNN(nn.Module):\n",
    "    \n",
    "    def __init__(self, batch_size, nfeat, nhid, ndim):\n",
    "        super(GNN, self).__init__()\n",
    "\n",
    "        self.gc1 = GraphConvolution(batch_size, nfeat, nhid)\n",
    "        self.embeddings = GraphConvolution(batch_size, nhid, 4*ndim)\n",
    "        self.reconstructions = InnerProduct(2*ndim)\n",
    "\n",
    "    def forward(self, x, adj):\n",
    "        x = F.relu(self.gc1(x, adj))\n",
    "        x = self.embeddings(x, adj)\n",
    "        x = norm_embed(x)\n",
    "        lr1, lr2 = torch.chunk(x, chunks=2, dim=2)\n",
    "        mu = F.relu(self.reconstructions(lr1))\n",
    "        sigma = F.relu(self.reconstructions(lr2))\n",
    "        return mu,sigma\n",
    "    "
   ]
  },
  {
   "cell_type": "code",
   "execution_count": 4,
   "metadata": {},
   "outputs": [],
   "source": [
    "np.set_printoptions(suppress=True)\n",
    "torch.set_printoptions(sci_mode=False,precision=8)"
   ]
  },
  {
   "cell_type": "code",
   "execution_count": 18,
   "metadata": {},
   "outputs": [],
   "source": [
    "# Training settings\n",
    "parser = argparse.ArgumentParser()\n",
    "parser.add_argument('--no-cuda', action='store_true', default=False,\n",
    "                    help='Disables CUDA training.')\n",
    "parser.add_argument('--fastmode', action='store_true', default=False,\n",
    "                    help='Validate during training pass.')\n",
    "parser.add_argument('--seed', type=int, default=426, help='Random seed.')\n",
    "parser.add_argument('--epochs', type=int, default=5000,\n",
    "                    help='Number of epochs to train.')\n",
    "parser.add_argument('--lr', type=float, default=0.01,\n",
    "                    help='Initial learning rate.')\n",
    "parser.add_argument('--weight_decay', type=float, default=10e-8,\n",
    "                    help='Weight decay (L2 loss on parameters).')\n",
    "parser.add_argument('--hidden', type=int, default=16,\n",
    "                    help='Number of hidden units.')\n",
    "parser.add_argument('--ndim', type=int, default=2,\n",
    "                    help='Embeddings dimension.')\n",
    "\n",
    "args = parser.parse_args(args=[])\n",
    "args.cuda = not args.no_cuda and torch.cuda.is_available()"
   ]
  },
  {
   "cell_type": "code",
   "execution_count": 6,
   "metadata": {},
   "outputs": [],
   "source": [
    "if 1:\n",
    "    # Taxi Dataset Graph\n",
    "    adj = load_data()\n",
    "    #adj = load_data(daily=True)\n",
    "else:\n",
    "    #Toy Example Graph\n",
    "    adj = toy_data()"
   ]
  },
  {
   "cell_type": "code",
   "execution_count": 7,
   "metadata": {},
   "outputs": [],
   "source": [
    "def GraphNeuralNet(adj,dim):\n",
    "    \n",
    "    # Set the random seed\n",
    "    np.random.seed(args.seed)\n",
    "    torch.manual_seed(args.seed)\n",
    "    if args.cuda:\n",
    "        torch.cuda.manual_seed(args.seed)\n",
    "        \n",
    "    args.ndim = dim\n",
    "    \n",
    "    adj_norm = normalize(adj)\n",
    "\n",
    "    adj = torch.FloatTensor(np.array(adj))\n",
    "    adj_norm = torch.FloatTensor(np.array(adj_norm))\n",
    "\n",
    "    # Model and optimizer\n",
    "    model = GNN(batch_size=adj_norm.shape[0],\n",
    "                nfeat=adj_norm.shape[1],\n",
    "                nhid=args.hidden,\n",
    "                ndim=args.ndim)\n",
    "\n",
    "    activation = {}\n",
    "    def get_activation(name):\n",
    "        def hook(model, input, output):\n",
    "            activation[name] = output.detach()\n",
    "        return hook\n",
    "\n",
    "    model.embeddings.register_forward_hook(get_activation('embeddings'))\n",
    "\n",
    "\n",
    "    optimizer = optim.Adam(model.parameters(),\n",
    "                           lr=args.lr, weight_decay=args.weight_decay)\n",
    "\n",
    "\n",
    "\n",
    "    features = torch.FloatTensor(torch.eye(adj.shape[1]))\n",
    "    features = features.reshape((1,adj.shape[1],adj.shape[1]))\n",
    "    features = features.repeat(adj.shape[0], 1, 1)\n",
    "\n",
    "    if args.cuda:\n",
    "        model.cuda()\n",
    "        features = features.cuda()\n",
    "        adj = adj.cuda()\n",
    "        adj_norm = adj_norm.cuda()\n",
    "\n",
    "\n",
    "    # Train model\n",
    "    t_total = time.time()\n",
    "    \n",
    "    losses = []\n",
    "\n",
    "    for epoch in range(args.epochs):\n",
    "\n",
    "        t = time.time()\n",
    "        model.train()\n",
    "        optimizer.zero_grad()\n",
    "        mu,sigma = model(features, adj_norm)\n",
    "\n",
    "        # loss function\n",
    "        criterion = torch.nn.GaussianNLLLoss()\n",
    "        loss = criterion(torch.flatten(adj_norm), torch.flatten(mu), torch.flatten(sigma))\n",
    "        loss.backward()\n",
    "        optimizer.step()\n",
    "\n",
    "        if epoch == 0:\n",
    "            best_loss = loss\n",
    "        else:\n",
    "            if loss < best_loss:\n",
    "                best_loss = loss\n",
    "\n",
    "        if epoch % 100 == 0:\n",
    "            print('Epoch: {:04d}'.format(epoch + 1),\n",
    "                  'loss: {:.8f}'.format(best_loss.item()),\n",
    "                  'time: {:.4f}s'.format(time.time() - t))\n",
    "        \n",
    "        losses.append(loss)\n",
    "\n",
    "    print(\"Optimization Finished!\")\n",
    "    print(\"Total time elapsed: {:.4f}s\".format(time.time() - t_total))\n",
    "    \n",
    "    return adj_norm,mu,losses\n"
   ]
  },
  {
   "cell_type": "code",
   "execution_count": 19,
   "metadata": {},
   "outputs": [
    {
     "name": "stdout",
     "output_type": "stream",
     "text": [
      "Epoch: 0001 loss: 34.91077423 time: 0.0040s\n",
      "Epoch: 0101 loss: -4.25380754 time: 0.0000s\n",
      "Epoch: 0201 loss: -4.49958277 time: 0.0040s\n",
      "Epoch: 0301 loss: -4.56547594 time: 0.0040s\n",
      "Epoch: 0401 loss: -4.66836929 time: 0.0080s\n",
      "Epoch: 0501 loss: -4.78430986 time: 0.0040s\n",
      "Epoch: 0601 loss: -4.81060505 time: 0.0040s\n",
      "Epoch: 0701 loss: -4.82362223 time: 0.0040s\n",
      "Epoch: 0801 loss: -4.83431864 time: 0.0080s\n",
      "Epoch: 0901 loss: -4.84279060 time: 0.0020s\n",
      "Epoch: 1001 loss: -4.84816933 time: 0.0081s\n",
      "Epoch: 1101 loss: -4.84816933 time: 0.0101s\n",
      "Epoch: 1201 loss: -4.84816933 time: 0.0100s\n",
      "Epoch: 1301 loss: -4.84816933 time: 0.0101s\n",
      "Epoch: 1401 loss: -4.84816933 time: 0.0080s\n",
      "Epoch: 1501 loss: -4.84816933 time: 0.0101s\n",
      "Epoch: 1601 loss: -4.84816933 time: 0.0101s\n",
      "Epoch: 1701 loss: -4.86216021 time: 0.0020s\n",
      "Epoch: 1801 loss: -4.88377428 time: 0.0040s\n",
      "Epoch: 1901 loss: -4.90365505 time: 0.0040s\n",
      "Epoch: 2001 loss: -4.92243052 time: 0.0040s\n",
      "Epoch: 2101 loss: -5.07325554 time: 0.0040s\n",
      "Epoch: 2201 loss: -5.08448744 time: 0.0040s\n",
      "Epoch: 2301 loss: -5.09210968 time: 0.0050s\n",
      "Epoch: 2401 loss: -5.09867239 time: 0.0040s\n",
      "Epoch: 2501 loss: -5.10455847 time: 0.0040s\n",
      "Epoch: 2601 loss: -5.10950756 time: 0.0040s\n",
      "Epoch: 2701 loss: -5.11397266 time: 0.0000s\n",
      "Epoch: 2801 loss: -5.11874771 time: 0.0040s\n",
      "Epoch: 2901 loss: -5.12451315 time: 0.0040s\n",
      "Epoch: 3001 loss: -5.12801456 time: 0.0040s\n",
      "Epoch: 3101 loss: -5.13094187 time: 0.0040s\n",
      "Epoch: 3201 loss: -5.13351488 time: 0.0040s\n",
      "Epoch: 3301 loss: -5.13622665 time: 0.0040s\n",
      "Epoch: 3401 loss: -5.13850641 time: 0.0040s\n",
      "Epoch: 3501 loss: -5.14125156 time: 0.0080s\n",
      "Epoch: 3601 loss: -5.14383650 time: 0.0040s\n",
      "Epoch: 3701 loss: -5.14848995 time: 0.0040s\n",
      "Epoch: 3801 loss: -5.15181732 time: 0.0040s\n",
      "Epoch: 3901 loss: -5.15500689 time: 0.0080s\n",
      "Epoch: 4001 loss: -5.15732002 time: 0.0040s\n",
      "Epoch: 4101 loss: -5.15803719 time: 0.0080s\n",
      "Epoch: 4201 loss: -5.15906286 time: 0.0080s\n",
      "Epoch: 4301 loss: -5.16290236 time: 0.0040s\n",
      "Epoch: 4401 loss: -5.16580772 time: 0.0080s\n",
      "Epoch: 4501 loss: -5.16798401 time: 0.0040s\n",
      "Epoch: 4601 loss: -5.16992283 time: 0.0040s\n",
      "Epoch: 4701 loss: -5.17173529 time: 0.0040s\n",
      "Epoch: 4801 loss: -5.17361259 time: 0.0080s\n",
      "Epoch: 4901 loss: -5.17566061 time: 0.0080s\n",
      "Optimization Finished!\n",
      "Total time elapsed: 23.9514s\n"
     ]
    }
   ],
   "source": [
    "dim=1\n",
    "adj_norm,mu,losses = GraphNeuralNet(adj=adj,dim=dim)"
   ]
  },
  {
   "cell_type": "code",
   "execution_count": 9,
   "metadata": {},
   "outputs": [
    {
     "name": "stdout",
     "output_type": "stream",
     "text": [
      "NMI Score : 0.3902290999844413\n"
     ]
    },
    {
     "data": {
      "image/png": "[encoded data removed]",
      "text/plain": [
       "<Figure size 432x288 with 1 Axes>"
      ]
     },
     "metadata": {
      "needs_background": "light"
     },
     "output_type": "display_data"
    }
   ],
   "source": [
    "plt.plot(losses)\n",
    "nmi = nmi_score(adj_norm[0],mu.reshape(adj_norm.shape[1:]).detach())\n",
    "print(\"NMI Score : {}\".format(nmi))"
   ]
  },
  {
   "cell_type": "code",
   "execution_count": 10,
   "metadata": {},
   "outputs": [
    {
     "name": "stdout",
     "output_type": "stream",
     "text": [
      "Epoch: 0001 loss: 45.94247055 time: 0.0040s\n",
      "Epoch: 0101 loss: -4.44985771 time: 0.0040s\n",
      "Epoch: 0201 loss: -4.44985771 time: 0.0000s\n",
      "Epoch: 0301 loss: -4.50614357 time: 0.0000s\n",
      "Epoch: 0401 loss: -4.50614357 time: 0.0040s\n",
      "Epoch: 0501 loss: -4.50614357 time: 0.0040s\n",
      "Epoch: 0601 loss: -4.84094524 time: 0.0040s\n",
      "Epoch: 0701 loss: -4.95642233 time: 0.0040s\n",
      "Epoch: 0801 loss: -5.01193476 time: 0.0080s\n",
      "Epoch: 0901 loss: -5.06351185 time: 0.0040s\n",
      "Epoch: 1001 loss: -5.15436745 time: 0.0040s\n",
      "Epoch: 1101 loss: -5.22377157 time: 0.0040s\n",
      "Epoch: 1201 loss: -5.30281591 time: 0.0080s\n",
      "Epoch: 1301 loss: -5.33052969 time: 0.0040s\n",
      "Epoch: 1401 loss: -5.40521097 time: 0.0040s\n",
      "Epoch: 1501 loss: -5.56417227 time: 0.0040s\n",
      "Epoch: 1601 loss: -5.61884212 time: 0.0030s\n",
      "Epoch: 1701 loss: -5.64817905 time: 0.0030s\n",
      "Epoch: 1801 loss: -5.66708708 time: 0.0030s\n",
      "Epoch: 1901 loss: -5.68253136 time: 0.0030s\n",
      "Epoch: 2001 loss: -5.70115805 time: 0.0030s\n",
      "Epoch: 2101 loss: -5.72983503 time: 0.0030s\n",
      "Epoch: 2201 loss: -5.77460146 time: 0.0030s\n",
      "Epoch: 2301 loss: -5.79414940 time: 0.0030s\n",
      "Epoch: 2401 loss: -5.79946089 time: 0.0030s\n",
      "Epoch: 2501 loss: -5.80254745 time: 0.0030s\n",
      "Epoch: 2601 loss: -5.80927372 time: 0.0060s\n",
      "Epoch: 2701 loss: -5.81455755 time: 0.0060s\n",
      "Epoch: 2801 loss: -5.81455755 time: 0.0030s\n",
      "Epoch: 2901 loss: -5.82359219 time: 0.0030s\n",
      "Epoch: 3001 loss: -5.82910728 time: 0.0030s\n",
      "Epoch: 3101 loss: -5.83405399 time: 0.0030s\n",
      "Epoch: 3201 loss: -5.83732557 time: 0.0030s\n",
      "Epoch: 3301 loss: -5.84208775 time: 0.0030s\n",
      "Epoch: 3401 loss: -5.84820557 time: 0.0030s\n",
      "Epoch: 3501 loss: -5.85129070 time: 0.0030s\n",
      "Epoch: 3601 loss: -5.85469198 time: 0.0030s\n",
      "Epoch: 3701 loss: -5.85675907 time: 0.0030s\n",
      "Epoch: 3801 loss: -5.86128044 time: 0.0030s\n",
      "Epoch: 3901 loss: -5.86417150 time: 0.0040s\n",
      "Epoch: 4001 loss: -5.86618662 time: 0.0040s\n",
      "Epoch: 4101 loss: -5.86776590 time: 0.0040s\n",
      "Epoch: 4201 loss: -5.86917210 time: 0.0040s\n",
      "Epoch: 4301 loss: -5.87032223 time: 0.0040s\n",
      "Epoch: 4401 loss: -5.87204981 time: 0.0040s\n",
      "Epoch: 4501 loss: -5.87384129 time: 0.0040s\n",
      "Epoch: 4601 loss: -5.87563181 time: 0.0040s\n",
      "Epoch: 4701 loss: -5.87719774 time: 0.0040s\n",
      "Epoch: 4801 loss: -5.87939692 time: 0.0040s\n",
      "Epoch: 4901 loss: -5.88134766 time: 0.0040s\n",
      "Optimization Finished!\n",
      "Total time elapsed: 18.8414s\n"
     ]
    }
   ],
   "source": [
    "dim=2\n",
    "adj_norm,mu,losses = GraphNeuralNet(adj=adj,dim=dim)"
   ]
  },
  {
   "cell_type": "code",
   "execution_count": 11,
   "metadata": {},
   "outputs": [
    {
     "name": "stdout",
     "output_type": "stream",
     "text": [
      "NMI Score : 0.3014127185047354\n"
     ]
    },
    {
     "data": {
      "image/png": "[encoded data removed]",
      "text/plain": [
       "<Figure size 432x288 with 1 Axes>"
      ]
     },
     "metadata": {
      "needs_background": "light"
     },
     "output_type": "display_data"
    }
   ],
   "source": [
    "plt.plot(losses)\n",
    "nmi = nmi_score(adj_norm[0],mu.reshape(adj_norm.shape[1:]).detach())\n",
    "print(\"NMI Score : {}\".format(nmi))"
   ]
  },
  {
   "cell_type": "code",
   "execution_count": 12,
   "metadata": {},
   "outputs": [
    {
     "name": "stdout",
     "output_type": "stream",
     "text": [
      "Epoch: 0001 loss: 40.30171585 time: 0.0050s\n",
      "Epoch: 0101 loss: -1.93468428 time: 0.0040s\n",
      "Epoch: 0201 loss: -2.02044845 time: 0.0040s\n",
      "Epoch: 0301 loss: -2.04201746 time: 0.0040s\n",
      "Epoch: 0401 loss: -2.09178114 time: 0.0040s\n",
      "Epoch: 0501 loss: -2.30338454 time: 0.0040s\n",
      "Epoch: 0601 loss: -2.36096621 time: 0.0040s\n",
      "Epoch: 0701 loss: -2.37378216 time: 0.0040s\n",
      "Epoch: 0801 loss: -2.38497162 time: 0.0040s\n",
      "Epoch: 0901 loss: -2.38979363 time: 0.0040s\n",
      "Epoch: 1001 loss: -2.39417267 time: 0.0040s\n",
      "Epoch: 1101 loss: -2.39566636 time: 0.0040s\n",
      "Epoch: 1201 loss: -2.39927149 time: 0.0040s\n",
      "Epoch: 1301 loss: -2.40314293 time: 0.0040s\n",
      "Epoch: 1401 loss: -2.40402460 time: 0.0040s\n",
      "Epoch: 1501 loss: -5.78234529 time: 0.0040s\n",
      "Epoch: 1601 loss: -5.79785013 time: 0.0040s\n",
      "Epoch: 1701 loss: -5.80378771 time: 0.0040s\n",
      "Epoch: 1801 loss: -5.80865431 time: 0.0040s\n",
      "Epoch: 1901 loss: -5.81173468 time: 0.0040s\n",
      "Epoch: 2001 loss: -5.81759024 time: 0.0000s\n",
      "Epoch: 2101 loss: -5.82212162 time: 0.0040s\n",
      "Epoch: 2201 loss: -5.82355547 time: 0.0000s\n",
      "Epoch: 2301 loss: -5.82677269 time: 0.0040s\n",
      "Epoch: 2401 loss: -5.82899809 time: 0.0040s\n",
      "Epoch: 2501 loss: -5.83120394 time: 0.0040s\n",
      "Epoch: 2601 loss: -5.83321667 time: 0.0040s\n",
      "Epoch: 2701 loss: -5.83841991 time: 0.0040s\n",
      "Epoch: 2801 loss: -5.87593079 time: 0.0040s\n",
      "Epoch: 2901 loss: -5.87948370 time: 0.0040s\n",
      "Epoch: 3001 loss: -5.88149071 time: 0.0040s\n",
      "Epoch: 3101 loss: -5.88353300 time: 0.0040s\n",
      "Epoch: 3201 loss: -5.88586235 time: 0.0040s\n",
      "Epoch: 3301 loss: -5.88766575 time: 0.0040s\n",
      "Epoch: 3401 loss: -5.89445257 time: 0.0040s\n",
      "Epoch: 3501 loss: -5.90453386 time: 0.0040s\n",
      "Epoch: 3601 loss: -5.91773510 time: 0.0040s\n",
      "Epoch: 3701 loss: -5.93277836 time: 0.0040s\n",
      "Epoch: 3801 loss: -5.94256210 time: 0.0040s\n",
      "Epoch: 3901 loss: -5.94755268 time: 0.0040s\n",
      "Epoch: 4001 loss: -5.95288515 time: 0.0040s\n",
      "Epoch: 4101 loss: -5.95702982 time: 0.0040s\n",
      "Epoch: 4201 loss: -5.96070766 time: 0.0040s\n",
      "Epoch: 4301 loss: -5.96569777 time: 0.0040s\n",
      "Epoch: 4401 loss: -5.97236347 time: 0.0040s\n",
      "Epoch: 4501 loss: -5.98092222 time: 0.0080s\n",
      "Epoch: 4601 loss: -5.98551369 time: 0.0040s\n",
      "Epoch: 4701 loss: -5.99518967 time: 0.0040s\n",
      "Epoch: 4801 loss: -5.99972343 time: 0.0040s\n",
      "Epoch: 4901 loss: -6.00237799 time: 0.0040s\n",
      "Optimization Finished!\n",
      "Total time elapsed: 19.0767s\n"
     ]
    }
   ],
   "source": [
    "dim=3\n",
    "adj_norm,mu,losses = GraphNeuralNet(adj=adj,dim=dim)"
   ]
  },
  {
   "cell_type": "code",
   "execution_count": 13,
   "metadata": {},
   "outputs": [
    {
     "name": "stdout",
     "output_type": "stream",
     "text": [
      "NMI Score : 0.47919507770317776\n"
     ]
    },
    {
     "data": {
      "image/png": "[encoded data removed]",
      "text/plain": [
       "<Figure size 432x288 with 1 Axes>"
      ]
     },
     "metadata": {
      "needs_background": "light"
     },
     "output_type": "display_data"
    }
   ],
   "source": [
    "plt.plot(losses)\n",
    "nmi = nmi_score(adj_norm[0],mu.reshape(adj_norm.shape[1:]).detach())\n",
    "print(\"NMI Score : {}\".format(nmi))"
   ]
  },
  {
   "cell_type": "code",
   "execution_count": 14,
   "metadata": {},
   "outputs": [
    {
     "name": "stdout",
     "output_type": "stream",
     "text": [
      "Epoch: 0001 loss: 31.84622955 time: 0.0040s\n",
      "Epoch: 0101 loss: -3.94349051 time: 0.0040s\n",
      "Epoch: 0201 loss: -3.94349051 time: 0.0040s\n",
      "Epoch: 0301 loss: -3.94349051 time: 0.0040s\n",
      "Epoch: 0401 loss: -3.94349051 time: 0.0040s\n",
      "Epoch: 0501 loss: -4.21814585 time: 0.0040s\n",
      "Epoch: 0601 loss: -4.45846272 time: 0.0040s\n",
      "Epoch: 0701 loss: -4.57894707 time: 0.0000s\n",
      "Epoch: 0801 loss: -4.95040703 time: 0.0000s\n",
      "Epoch: 0901 loss: -5.32935572 time: 0.0040s\n",
      "Epoch: 1001 loss: -5.40142488 time: 0.0040s\n",
      "Epoch: 1101 loss: -5.42924976 time: 0.0000s\n",
      "Epoch: 1201 loss: -5.45504427 time: 0.0040s\n",
      "Epoch: 1301 loss: -5.47376537 time: 0.0040s\n",
      "Epoch: 1401 loss: -5.47376537 time: 0.0040s\n",
      "Epoch: 1501 loss: -5.59385109 time: 0.0056s\n",
      "Epoch: 1601 loss: -5.67363787 time: 0.0040s\n",
      "Epoch: 1701 loss: -5.70731497 time: 0.0040s\n",
      "Epoch: 1801 loss: -5.75934076 time: 0.0040s\n",
      "Epoch: 1901 loss: -5.86569595 time: 0.0040s\n",
      "Epoch: 2001 loss: -5.88954878 time: 0.0000s\n",
      "Epoch: 2101 loss: -5.89763069 time: 0.0040s\n",
      "Epoch: 2201 loss: -5.91238832 time: 0.0040s\n",
      "Epoch: 2301 loss: -5.92438841 time: 0.0040s\n",
      "Epoch: 2401 loss: -5.93441391 time: 0.0040s\n",
      "Epoch: 2501 loss: -5.93441391 time: 0.0000s\n",
      "Epoch: 2601 loss: -5.93762207 time: 0.0040s\n",
      "Epoch: 2701 loss: -5.94798231 time: 0.0040s\n",
      "Epoch: 2801 loss: -5.95619726 time: 0.0040s\n",
      "Epoch: 2901 loss: -5.96979904 time: 0.0030s\n",
      "Epoch: 3001 loss: -5.97994757 time: 0.0030s\n",
      "Epoch: 3101 loss: -5.99805832 time: 0.0040s\n",
      "Epoch: 3201 loss: -6.00587320 time: 0.0040s\n",
      "Epoch: 3301 loss: -6.02290916 time: 0.0040s\n",
      "Epoch: 3401 loss: -6.02700806 time: 0.0030s\n",
      "Epoch: 3501 loss: -6.02750111 time: 0.0050s\n",
      "Epoch: 3601 loss: -6.03098345 time: 0.0030s\n",
      "Epoch: 3701 loss: -6.03300905 time: 0.0050s\n",
      "Epoch: 3801 loss: -6.03605938 time: 0.0030s\n",
      "Epoch: 3901 loss: -6.03683281 time: 0.0040s\n",
      "Epoch: 4001 loss: -6.04053402 time: 0.0040s\n",
      "Epoch: 4101 loss: -6.04053402 time: 0.0030s\n",
      "Epoch: 4201 loss: -6.04053402 time: 0.0030s\n",
      "Epoch: 4301 loss: -6.04467916 time: 0.0030s\n",
      "Epoch: 4401 loss: -6.04895449 time: 0.0030s\n",
      "Epoch: 4501 loss: -6.04969549 time: 0.0030s\n",
      "Epoch: 4601 loss: -6.04969549 time: 0.0030s\n",
      "Epoch: 4701 loss: -6.05084801 time: 0.0030s\n",
      "Epoch: 4801 loss: -6.05312395 time: 0.0040s\n",
      "Epoch: 4901 loss: -6.05312395 time: 0.0030s\n",
      "Optimization Finished!\n",
      "Total time elapsed: 18.5506s\n"
     ]
    }
   ],
   "source": [
    "dim=4\n",
    "adj_norm,mu,losses = GraphNeuralNet(adj=adj,dim=dim)"
   ]
  },
  {
   "cell_type": "code",
   "execution_count": 15,
   "metadata": {},
   "outputs": [
    {
     "name": "stdout",
     "output_type": "stream",
     "text": [
      "NMI Score : 0.09624192579063166\n"
     ]
    },
    {
     "data": {
      "image/png": "[encoded data removed]",
      "text/plain": [
       "<Figure size 432x288 with 1 Axes>"
      ]
     },
     "metadata": {
      "needs_background": "light"
     },
     "output_type": "display_data"
    }
   ],
   "source": [
    "plt.plot(losses)\n",
    "nmi = nmi_score(adj_norm[0],mu.reshape(adj_norm.shape[1:]).detach())\n",
    "print(\"NMI Score : {}\".format(nmi))"
   ]
  },
  {
   "cell_type": "code",
   "execution_count": null,
   "metadata": {},
   "outputs": [],
   "source": []
  }
 ],
 "metadata": {
  "kernelspec": {
   "display_name": "Python 3",
   "language": "python",
   "name": "python3"
  },
  "language_info": {
   "codemirror_mode": {
    "name": "ipython",
    "version": 3
   },
   "file_extension": ".py",
   "mimetype": "text/x-python",
   "name": "python",
   "nbconvert_exporter": "python",
   "pygments_lexer": "ipython3",
   "version": "3.8.7"
  }
 },
 "nbformat": 4,
 "nbformat_minor": 4
}
