{
 "cells": [
  {
   "cell_type": "code",
   "execution_count": 1,
   "metadata": {},
   "outputs": [],
   "source": [
    "from __future__ import division\n",
    "from __future__ import print_function\n",
    "\n",
    "import time\n",
    "import argparse\n",
    "import numpy as np\n",
    "\n",
    "import torch\n",
    "import torch.optim as optim\n",
    "\n",
    "from utils import load_data,normalize,toy_data,norm_embed,nmi_score\n",
    "\n",
    "import matplotlib.pyplot as plt "
   ]
  },
  {
   "cell_type": "code",
   "execution_count": 2,
   "metadata": {},
   "outputs": [],
   "source": [
    "import torch.nn as nn\n",
    "import torch.nn.functional as F\n",
    "from layers import GraphConvolution, InnerProduct\n",
    "from utils import norm_embed\n",
    "import torch"
   ]
  },
  {
   "cell_type": "code",
   "execution_count": 3,
   "metadata": {},
   "outputs": [],
   "source": [
    "class GNN(nn.Module):\n",
    "    \n",
    "    def __init__(self, batch_size, nfeat, nhid, ndim):\n",
    "        super(GNN, self).__init__()\n",
    "\n",
    "        self.gc1 = GraphConvolution(batch_size, nfeat, nhid)\n",
    "        self.embeddings = GraphConvolution(batch_size, nhid, 4*ndim)\n",
    "        self.reconstructions = InnerProduct(2*ndim)\n",
    "\n",
    "    def forward(self, x, adj):\n",
    "        x = F.relu(self.gc1(x, adj))\n",
    "        x = self.embeddings(x, adj)\n",
    "        x = norm_embed(x)\n",
    "        lr1, lr2 = torch.chunk(x, chunks=2, dim=2)\n",
    "        mu = F.relu(self.reconstructions(lr1))\n",
    "        sigma = F.relu(self.reconstructions(lr2))\n",
    "        return mu,sigma\n",
    "    "
   ]
  },
  {
   "cell_type": "code",
   "execution_count": 4,
   "metadata": {},
   "outputs": [],
   "source": [
    "np.set_printoptions(suppress=True)\n",
    "torch.set_printoptions(sci_mode=False,precision=8)"
   ]
  },
  {
   "cell_type": "code",
   "execution_count": 5,
   "metadata": {},
   "outputs": [],
   "source": [
    "# Training settings\n",
    "parser = argparse.ArgumentParser()\n",
    "parser.add_argument('--no-cuda', action='store_true', default=False,\n",
    "                    help='Disables CUDA training.')\n",
    "parser.add_argument('--fastmode', action='store_true', default=False,\n",
    "                    help='Validate during training pass.')\n",
    "parser.add_argument('--seed', type=int, default=426, help='Random seed.')\n",
    "parser.add_argument('--epochs', type=int, default=1000,\n",
    "                    help='Number of epochs to train.')\n",
    "parser.add_argument('--lr', type=float, default=0.01,\n",
    "                    help='Initial learning rate.')\n",
    "parser.add_argument('--weight_decay', type=float, default=10e-8,\n",
    "                    help='Weight decay (L2 loss on parameters).')\n",
    "parser.add_argument('--hidden', type=int, default=16,\n",
    "                    help='Number of hidden units.')\n",
    "parser.add_argument('--ndim', type=int, default=2,\n",
    "                    help='Embeddings dimension.')\n",
    "\n",
    "args = parser.parse_args(args=[])\n",
    "args.cuda = not args.no_cuda and torch.cuda.is_available()"
   ]
  },
  {
   "cell_type": "code",
   "execution_count": 6,
   "metadata": {},
   "outputs": [],
   "source": [
    "if 1:\n",
    "    # Taxi Dataset Graph\n",
    "    adj = load_data(daily=True)\n",
    "else:\n",
    "    #Toy Example Graph\n",
    "    adj = toy_data()"
   ]
  },
  {
   "cell_type": "code",
   "execution_count": 7,
   "metadata": {},
   "outputs": [],
   "source": [
    "def GraphNeuralNet(adj,dim):\n",
    "    \n",
    "    # Set the random seed\n",
    "    np.random.seed(args.seed)\n",
    "    torch.manual_seed(args.seed)\n",
    "    if args.cuda:\n",
    "        torch.cuda.manual_seed(args.seed)\n",
    "        \n",
    "    args.ndim = dim\n",
    "    \n",
    "    adj_norm = normalize(adj)\n",
    "\n",
    "    adj = torch.FloatTensor(np.array(adj))\n",
    "    adj_norm = torch.FloatTensor(np.array(adj_norm))\n",
    "\n",
    "    # Model and optimizer\n",
    "    model = GNN(batch_size=adj_norm.shape[0],\n",
    "                nfeat=adj_norm.shape[1],\n",
    "                nhid=args.hidden,\n",
    "                ndim=args.ndim)\n",
    "\n",
    "    activation = {}\n",
    "    def get_activation(name):\n",
    "        def hook(model, input, output):\n",
    "            activation[name] = output.detach()\n",
    "        return hook\n",
    "\n",
    "    model.embeddings.register_forward_hook(get_activation('embeddings'))\n",
    "\n",
    "\n",
    "    optimizer = optim.Adam(model.parameters(),\n",
    "                           lr=args.lr, weight_decay=args.weight_decay)\n",
    "\n",
    "\n",
    "\n",
    "    features = torch.FloatTensor(torch.eye(adj.shape[1]))\n",
    "    features = features.reshape((1,adj.shape[1],adj.shape[1]))\n",
    "    features = features.repeat(adj.shape[0], 1, 1)\n",
    "\n",
    "    if args.cuda:\n",
    "        model.cuda()\n",
    "        features = features.cuda()\n",
    "        adj = adj.cuda()\n",
    "        adj_norm = adj_norm.cuda()\n",
    "\n",
    "\n",
    "    # Train model\n",
    "    t_total = time.time()\n",
    "    A2norm = (adj_norm ** 2).mean()\n",
    "    #A2norm = (adj_norm ** 2).view(adj_norm.shape[0],-1).mean(axis=1)\n",
    "    \n",
    "    losses = []\n",
    "\n",
    "    for epoch in range(args.epochs):\n",
    "\n",
    "        t = time.time()\n",
    "        model.train()\n",
    "        optimizer.zero_grad()\n",
    "        mu,sigma = model(features, adj_norm)\n",
    "\n",
    "        # loss function\n",
    "        criterion = torch.nn.GaussianNLLLoss()\n",
    "        loss = criterion(torch.flatten(adj_norm), torch.flatten(mu), torch.flatten(sigma)) #/ A2norm\n",
    "        loss.backward()\n",
    "        optimizer.step()\n",
    "\n",
    "        if epoch == 0:\n",
    "            best_loss = loss\n",
    "        else:\n",
    "            if loss < best_loss:\n",
    "                best_loss = loss\n",
    "\n",
    "        if epoch % 100 == 0:\n",
    "            print('Epoch: {:04d}'.format(epoch + 1),\n",
    "                  'loss: {:.8f}'.format(best_loss.item()),\n",
    "                  'time: {:.4f}s'.format(time.time() - t))\n",
    "        \n",
    "        losses.append(loss)\n",
    "\n",
    "    print(\"Optimization Finished!\")\n",
    "    print(\"Total time elapsed: {:.4f}s\".format(time.time() - t_total))\n",
    "    \n",
    "    return adj_norm,mu,losses\n"
   ]
  },
  {
   "cell_type": "code",
   "execution_count": 8,
   "metadata": {},
   "outputs": [
    {
     "name": "stdout",
     "output_type": "stream",
     "text": [
      "Epoch: 0001 loss: 109.65240479 time: 0.5758s\n",
      "Epoch: 0101 loss: -2.86444592 time: 0.7297s\n",
      "Epoch: 0201 loss: -3.34929276 time: 0.5915s\n",
      "Epoch: 0301 loss: -3.73554969 time: 0.6954s\n",
      "Epoch: 0401 loss: -3.91651893 time: 0.6720s\n",
      "Epoch: 0501 loss: -3.94184136 time: 0.5921s\n",
      "Epoch: 0601 loss: -3.95151305 time: 0.6039s\n",
      "Epoch: 0701 loss: -3.96217132 time: 0.5963s\n",
      "Epoch: 0801 loss: -3.99268365 time: 0.6842s\n",
      "Epoch: 0901 loss: -4.00477457 time: 0.6563s\n",
      "Optimization Finished!\n",
      "Total time elapsed: 646.4357s\n"
     ]
    }
   ],
   "source": [
    "dim=1\n",
    "adj_norm,mu,losses = GraphNeuralNet(adj=adj,dim=dim)"
   ]
  },
  {
   "cell_type": "code",
   "execution_count": 10,
   "metadata": {},
   "outputs": [
    {
     "data": {
      "text/plain": [
       "[<matplotlib.lines.Line2D at 0x169257e23d0>]"
      ]
     },
     "execution_count": 10,
     "metadata": {},
     "output_type": "execute_result"
    },
    {
     "data": {
      "image/png": "[encoded data removed]",
      "text/plain": [
       "<Figure size 432x288 with 1 Axes>"
      ]
     },
     "metadata": {
      "needs_background": "light"
     },
     "output_type": "display_data"
    }
   ],
   "source": [
    "plt.plot(losses)"
   ]
  },
  {
   "cell_type": "code",
   "execution_count": 11,
   "metadata": {},
   "outputs": [
    {
     "name": "stdout",
     "output_type": "stream",
     "text": [
      "Epoch: 0001 loss: 110.57756042 time: 0.6821s\n",
      "Epoch: 0101 loss: -3.69331169 time: 0.7017s\n",
      "Epoch: 0201 loss: -4.17930269 time: 0.7800s\n",
      "Epoch: 0301 loss: -4.41982412 time: 0.7632s\n",
      "Epoch: 0401 loss: -4.63670969 time: 0.8093s\n",
      "Epoch: 0501 loss: -4.77226210 time: 0.6982s\n",
      "Epoch: 0601 loss: -4.89972544 time: 0.7106s\n",
      "Epoch: 0701 loss: -4.98489046 time: 0.6949s\n",
      "Epoch: 0801 loss: -4.98489046 time: 0.7264s\n",
      "Epoch: 0901 loss: -5.00621414 time: 0.7856s\n",
      "Optimization Finished!\n",
      "Total time elapsed: 754.2754s\n"
     ]
    }
   ],
   "source": [
    "dim=2\n",
    "adj_norm,mu,losses = GraphNeuralNet(adj=adj,dim=dim)"
   ]
  },
  {
   "cell_type": "code",
   "execution_count": 12,
   "metadata": {},
   "outputs": [
    {
     "data": {
      "text/plain": [
       "[<matplotlib.lines.Line2D at 0x169080d0b80>]"
      ]
     },
     "execution_count": 12,
     "metadata": {},
     "output_type": "execute_result"
    },
    {
     "data": {
      "image/png": "[encoded data removed]",
      "text/plain": [
       "<Figure size 432x288 with 1 Axes>"
      ]
     },
     "metadata": {
      "needs_background": "light"
     },
     "output_type": "display_data"
    }
   ],
   "source": [
    "plt.plot(losses)"
   ]
  },
  {
   "cell_type": "code",
   "execution_count": 13,
   "metadata": {},
   "outputs": [
    {
     "name": "stdout",
     "output_type": "stream",
     "text": [
      "Epoch: 0001 loss: 110.80858612 time: 0.7024s\n",
      "Epoch: 0101 loss: -3.65180826 time: 0.7435s\n",
      "Epoch: 0201 loss: -4.13985968 time: 0.7392s\n",
      "Epoch: 0301 loss: -4.43265438 time: 0.7577s\n",
      "Epoch: 0401 loss: -4.66943121 time: 0.7453s\n",
      "Epoch: 0501 loss: -4.86277246 time: 0.7630s\n",
      "Epoch: 0601 loss: -4.97093678 time: 0.7521s\n",
      "Epoch: 0701 loss: -5.09241009 time: 0.7373s\n",
      "Epoch: 0801 loss: -5.16851854 time: 0.7160s\n",
      "Epoch: 0901 loss: -5.23402643 time: 0.7507s\n",
      "Optimization Finished!\n",
      "Total time elapsed: 751.4584s\n"
     ]
    }
   ],
   "source": [
    "dim=3\n",
    "adj_norm,mu,losses = GraphNeuralNet(adj=adj,dim=dim)"
   ]
  },
  {
   "cell_type": "code",
   "execution_count": 14,
   "metadata": {},
   "outputs": [
    {
     "data": {
      "text/plain": [
       "[<matplotlib.lines.Line2D at 0x169080ab6d0>]"
      ]
     },
     "execution_count": 14,
     "metadata": {},
     "output_type": "execute_result"
    },
    {
     "data": {
      "image/png": "[encoded data removed]",
      "text/plain": [
       "<Figure size 432x288 with 1 Axes>"
      ]
     },
     "metadata": {
      "needs_background": "light"
     },
     "output_type": "display_data"
    }
   ],
   "source": [
    "plt.plot(losses)"
   ]
  },
  {
   "cell_type": "code",
   "execution_count": 15,
   "metadata": {},
   "outputs": [
    {
     "name": "stdout",
     "output_type": "stream",
     "text": [
      "Epoch: 0001 loss: 112.17070007 time: 0.7292s\n",
      "Epoch: 0101 loss: -3.54459333 time: 0.7563s\n",
      "Epoch: 0201 loss: -3.87136388 time: 0.7689s\n",
      "Epoch: 0301 loss: -4.21124220 time: 0.7514s\n",
      "Epoch: 0401 loss: -4.43713760 time: 0.8645s\n",
      "Epoch: 0501 loss: -4.63915920 time: 0.7411s\n",
      "Epoch: 0601 loss: -4.77234411 time: 0.7536s\n",
      "Epoch: 0701 loss: -5.06856489 time: 0.7451s\n",
      "Epoch: 0801 loss: -5.11429787 time: 0.7861s\n",
      "Epoch: 0901 loss: -5.16417646 time: 0.7469s\n",
      "Optimization Finished!\n",
      "Total time elapsed: 763.0309s\n"
     ]
    }
   ],
   "source": [
    "dim=4\n",
    "adj_norm,mu,losses = GraphNeuralNet(adj=adj,dim=dim)"
   ]
  },
  {
   "cell_type": "code",
   "execution_count": 16,
   "metadata": {},
   "outputs": [
    {
     "data": {
      "text/plain": [
       "[<matplotlib.lines.Line2D at 0x169311a0d90>]"
      ]
     },
     "execution_count": 16,
     "metadata": {},
     "output_type": "execute_result"
    },
    {
     "data": {
      "image/png": "[encoded data removed]",
      "text/plain": [
       "<Figure size 432x288 with 1 Axes>"
      ]
     },
     "metadata": {
      "needs_background": "light"
     },
     "output_type": "display_data"
    }
   ],
   "source": [
    "plt.plot(losses)"
   ]
  },
  {
   "cell_type": "code",
   "execution_count": null,
   "metadata": {},
   "outputs": [],
   "source": []
  }
 ],
 "metadata": {
  "kernelspec": {
   "display_name": "Python 3",
   "language": "python",
   "name": "python3"
  },
  "language_info": {
   "codemirror_mode": {
    "name": "ipython",
    "version": 3
   },
   "file_extension": ".py",
   "mimetype": "text/x-python",
   "name": "python",
   "nbconvert_exporter": "python",
   "pygments_lexer": "ipython3",
   "version": "3.8.7"
  }
 },
 "nbformat": 4,
 "nbformat_minor": 4
}
