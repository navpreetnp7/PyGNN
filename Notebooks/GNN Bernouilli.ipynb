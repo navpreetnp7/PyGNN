{
 "cells": [
  {
   "cell_type": "code",
   "execution_count": 1,
   "metadata": {},
   "outputs": [],
   "source": [
    "from __future__ import division\n",
    "from __future__ import print_function\n",
    "\n",
    "import time\n",
    "import argparse\n",
    "import numpy as np\n",
    "\n",
    "import torch\n",
    "import torch.optim as optim\n",
    "\n",
    "from utils import load_data,normalize,toy_data,norm_embed,nmi_score\n",
    "\n",
    "import networkx as nx\n",
    "import matplotlib.pyplot as plt "
   ]
  },
  {
   "cell_type": "code",
   "execution_count": 2,
   "metadata": {},
   "outputs": [],
   "source": [
    "import torch.nn as nn\n",
    "import torch.nn.functional as F\n",
    "from layers import GraphConvolution, InnerProduct\n",
    "from utils import norm_embed\n",
    "import torch"
   ]
  },
  {
   "cell_type": "code",
   "execution_count": 3,
   "metadata": {},
   "outputs": [],
   "source": [
    "class GNN(nn.Module):\n",
    "    \n",
    "    def __init__(self, batch_size, nfeat, nhid, ndim):\n",
    "        super(GNN, self).__init__()\n",
    "\n",
    "        self.gc1 = GraphConvolution(batch_size, nfeat, nhid)\n",
    "        self.embeddings = GraphConvolution(batch_size, nhid, 2*ndim)\n",
    "        self.reconstructions = InnerProduct(2*ndim)\n",
    "\n",
    "    def forward(self, x, adj):\n",
    "        x = F.relu(self.gc1(x, adj))\n",
    "        x = self.embeddings(x, adj)\n",
    "        x = norm_embed(x)\n",
    "        x = self.reconstructions(x)\n",
    "        p = torch.sigmoid(x)\n",
    "        return p\n",
    "    "
   ]
  },
  {
   "cell_type": "code",
   "execution_count": 4,
   "metadata": {},
   "outputs": [],
   "source": [
    "np.set_printoptions(suppress=True)\n",
    "torch.set_printoptions(sci_mode=False,precision=8)"
   ]
  },
  {
   "cell_type": "code",
   "execution_count": 5,
   "metadata": {},
   "outputs": [],
   "source": [
    "# Training settings\n",
    "parser = argparse.ArgumentParser()\n",
    "parser.add_argument('--no-cuda', action='store_true', default=False,\n",
    "                    help='Disables CUDA training.')\n",
    "parser.add_argument('--fastmode', action='store_true', default=False,\n",
    "                    help='Validate during training pass.')\n",
    "parser.add_argument('--seed', type=int, default=426, help='Random seed.')\n",
    "parser.add_argument('--epochs', type=int, default=20000,\n",
    "                    help='Number of epochs to train.')\n",
    "parser.add_argument('--lr', type=float, default=0.1,\n",
    "                    help='Initial learning rate.')\n",
    "parser.add_argument('--weight_decay', type=float, default=10e-8,\n",
    "                    help='Weight decay (L2 loss on parameters).')\n",
    "parser.add_argument('--hidden', type=int, default=16,\n",
    "                    help='Number of hidden units.')\n",
    "parser.add_argument('--ndim', type=int, default=2,\n",
    "                    help='Embeddings dimension.')\n",
    "\n",
    "args = parser.parse_args(args=[])\n",
    "args.cuda = not args.no_cuda and torch.cuda.is_available()"
   ]
  },
  {
   "cell_type": "code",
   "execution_count": 6,
   "metadata": {},
   "outputs": [],
   "source": [
    "# Karate Club Binary Network\n",
    "G = nx.karate_club_graph()\n",
    "adj = nx.to_numpy_matrix(G)\n",
    "adj = torch.FloatTensor(adj)\n",
    "adj = torch.unsqueeze(adj,0)"
   ]
  },
  {
   "cell_type": "code",
   "execution_count": 7,
   "metadata": {},
   "outputs": [],
   "source": [
    "def GraphNeuralNet(adj,dim):\n",
    "    \n",
    "    # Set the random seed\n",
    "    np.random.seed(args.seed)\n",
    "    torch.manual_seed(args.seed)\n",
    "    if args.cuda:\n",
    "        torch.cuda.manual_seed(args.seed)\n",
    "        \n",
    "    args.ndim = dim\n",
    "    \n",
    "    adj_norm = normalize(adj)\n",
    "\n",
    "    adj = torch.FloatTensor(np.array(adj))\n",
    "    adj_norm = torch.FloatTensor(np.array(adj_norm))\n",
    "\n",
    "    # Model and optimizer\n",
    "    model = GNN(batch_size=adj_norm.shape[0],\n",
    "                nfeat=adj_norm.shape[1],\n",
    "                nhid=args.hidden,\n",
    "                ndim=args.ndim)\n",
    "\n",
    "    activation = {}\n",
    "    def get_activation(name):\n",
    "        def hook(model, input, output):\n",
    "            activation[name] = output.detach()\n",
    "        return hook\n",
    "\n",
    "    model.embeddings.register_forward_hook(get_activation('embeddings'))\n",
    "\n",
    "\n",
    "    optimizer = optim.Adam(model.parameters(),\n",
    "                           lr=args.lr, weight_decay=args.weight_decay)\n",
    "\n",
    "\n",
    "\n",
    "    features = torch.FloatTensor(torch.eye(adj.shape[1]))\n",
    "    features = features.reshape((1,adj.shape[1],adj.shape[1]))\n",
    "    features = features.repeat(adj.shape[0], 1, 1)\n",
    "\n",
    "    if args.cuda:\n",
    "        model.cuda()\n",
    "        features = features.cuda()\n",
    "        adj = adj.cuda()\n",
    "        adj_norm = adj_norm.cuda()\n",
    "\n",
    "\n",
    "    # Train model\n",
    "    t_total = time.time()\n",
    "    A2norm = (adj_norm ** 2).mean()\n",
    "    #A2norm = (adj_norm ** 2).view(adj_norm.shape[0],-1).mean(axis=1)\n",
    "    \n",
    "    losses = []\n",
    "    \n",
    "    for epoch in range(args.epochs):\n",
    "\n",
    "        t = time.time()\n",
    "        model.train()\n",
    "        optimizer.zero_grad()\n",
    "        p = model(features, adj_norm)\n",
    "\n",
    "        # loss function\n",
    "        criterion = torch.nn.BCELoss()\n",
    "\n",
    "        loss = criterion(torch.flatten(p), torch.flatten(adj)) #/ A2norm\n",
    "        loss.backward()\n",
    "        optimizer.step()\n",
    "\n",
    "        if epoch == 0:\n",
    "            best_loss = loss\n",
    "        else:\n",
    "            if loss < best_loss:\n",
    "                best_loss = loss\n",
    "            elif loss == best_loss:\n",
    "                best_loss = loss\n",
    "\n",
    "        if epoch % 1000 == 0:\n",
    "            print('Epoch: {:04d}'.format(epoch + 1),\n",
    "                  'loss: {:.8f}'.format(best_loss.item()),\n",
    "                  'time: {:.4f}s'.format(time.time() - t))\n",
    "            \n",
    "        losses.append(loss)\n",
    "\n",
    "    print(\"Optimization Finished!\")\n",
    "    print(\"Total time elapsed: {:.4f}s\".format(time.time() - t_total))\n",
    "    \n",
    "    return p,losses\n"
   ]
  },
  {
   "cell_type": "code",
   "execution_count": 8,
   "metadata": {},
   "outputs": [
    {
     "name": "stdout",
     "output_type": "stream",
     "text": [
      "Epoch: 0001 loss: 0.69314629 time: 0.0000s\n",
      "Epoch: 1001 loss: 0.29742247 time: 0.0000s\n",
      "Epoch: 2001 loss: 0.29742214 time: 0.0000s\n",
      "Epoch: 3001 loss: 0.29742214 time: 0.0000s\n",
      "Epoch: 4001 loss: 0.29406449 time: 0.0000s\n",
      "Epoch: 5001 loss: 0.29394093 time: 0.0000s\n",
      "Epoch: 6001 loss: 0.28858045 time: 0.0000s\n",
      "Epoch: 7001 loss: 0.28702611 time: 0.0000s\n",
      "Epoch: 8001 loss: 0.28699586 time: 0.0000s\n",
      "Epoch: 9001 loss: 0.28545535 time: 0.0000s\n",
      "Epoch: 10001 loss: 0.28515700 time: 0.0040s\n",
      "Epoch: 11001 loss: 0.28513551 time: 0.0000s\n",
      "Epoch: 12001 loss: 0.28513157 time: 0.0041s\n",
      "Epoch: 13001 loss: 0.28018853 time: 0.0000s\n",
      "Epoch: 14001 loss: 0.27968422 time: 0.0000s\n",
      "Epoch: 15001 loss: 0.27831250 time: 0.0000s\n",
      "Epoch: 16001 loss: 0.27760094 time: 0.0000s\n",
      "Epoch: 17001 loss: 0.27731758 time: 0.0011s\n",
      "Epoch: 18001 loss: 0.27716404 time: 0.0000s\n",
      "Epoch: 19001 loss: 0.27707660 time: 0.0000s\n",
      "Optimization Finished!\n",
      "Total time elapsed: 13.8236s\n"
     ]
    }
   ],
   "source": [
    "dim=1\n",
    "p,losses = GraphNeuralNet(adj=adj,dim=dim)"
   ]
  },
  {
   "cell_type": "code",
   "execution_count": 9,
   "metadata": {},
   "outputs": [
    {
     "name": "stdout",
     "output_type": "stream",
     "text": [
      "NMI Score : 0.2755260826524358\n"
     ]
    },
    {
     "data": {
      "image/png": "[encoded data removed]",
      "text/plain": [
       "<Figure size 432x288 with 1 Axes>"
      ]
     },
     "metadata": {
      "needs_background": "light"
     },
     "output_type": "display_data"
    }
   ],
   "source": [
    "plt.plot(losses)\n",
    "nmi = nmi_score(adj[0],p.reshape(adj.shape[1:]).detach())\n",
    "print(\"NMI Score : {}\".format(nmi))"
   ]
  },
  {
   "cell_type": "code",
   "execution_count": 10,
   "metadata": {},
   "outputs": [
    {
     "name": "stdout",
     "output_type": "stream",
     "text": [
      "Epoch: 0001 loss: 0.69313908 time: 0.0000s\n",
      "Epoch: 1001 loss: 0.18626995 time: 0.0080s\n",
      "Epoch: 2001 loss: 0.18230140 time: 0.0080s\n",
      "Epoch: 3001 loss: 0.18071719 time: 0.0000s\n",
      "Epoch: 4001 loss: 0.17922910 time: 0.0000s\n",
      "Epoch: 5001 loss: 0.17741436 time: 0.0000s\n",
      "Epoch: 6001 loss: 0.17667812 time: 0.0000s\n",
      "Epoch: 7001 loss: 0.17667812 time: 0.0000s\n",
      "Epoch: 8001 loss: 0.17667812 time: 0.0000s\n",
      "Epoch: 9001 loss: 0.17667812 time: 0.0000s\n",
      "Epoch: 10001 loss: 0.17667812 time: 0.0000s\n",
      "Epoch: 11001 loss: 0.17667812 time: 0.0000s\n",
      "Epoch: 12001 loss: 0.17667812 time: 0.0000s\n",
      "Epoch: 13001 loss: 0.17667812 time: 0.0000s\n",
      "Epoch: 14001 loss: 0.17667812 time: 0.0000s\n",
      "Epoch: 15001 loss: 0.17667812 time: 0.0000s\n",
      "Epoch: 16001 loss: 0.17667812 time: 0.0000s\n",
      "Epoch: 17001 loss: 0.17667812 time: 0.0000s\n",
      "Epoch: 18001 loss: 0.17667812 time: 0.0040s\n",
      "Epoch: 19001 loss: 0.17667812 time: 0.0000s\n",
      "Optimization Finished!\n",
      "Total time elapsed: 17.5987s\n"
     ]
    }
   ],
   "source": [
    "dim=2\n",
    "p,losses = GraphNeuralNet(adj=adj,dim=dim)"
   ]
  },
  {
   "cell_type": "code",
   "execution_count": 11,
   "metadata": {},
   "outputs": [
    {
     "name": "stdout",
     "output_type": "stream",
     "text": [
      "NMI Score : 0.6562984341134843\n"
     ]
    },
    {
     "data": {
      "image/png": "[encoded data removed]",
      "text/plain": [
       "<Figure size 432x288 with 1 Axes>"
      ]
     },
     "metadata": {
      "needs_background": "light"
     },
     "output_type": "display_data"
    }
   ],
   "source": [
    "plt.plot(losses)\n",
    "nmi = nmi_score(adj[0],p.reshape(adj.shape[1:]).detach())\n",
    "print(\"NMI Score : {}\".format(nmi))"
   ]
  },
  {
   "cell_type": "code",
   "execution_count": 12,
   "metadata": {},
   "outputs": [
    {
     "name": "stdout",
     "output_type": "stream",
     "text": [
      "Epoch: 0001 loss: 0.69311911 time: 0.0000s\n",
      "Epoch: 1001 loss: 0.12505601 time: 0.0000s\n",
      "Epoch: 2001 loss: 0.11954801 time: 0.0000s\n",
      "Epoch: 3001 loss: 0.11758263 time: 0.0010s\n",
      "Epoch: 4001 loss: 0.11644974 time: 0.0010s\n",
      "Epoch: 5001 loss: 0.11516818 time: 0.0010s\n",
      "Epoch: 6001 loss: 0.11424655 time: 0.0000s\n",
      "Epoch: 7001 loss: 0.11313070 time: 0.0010s\n",
      "Epoch: 8001 loss: 0.11241331 time: 0.0010s\n",
      "Epoch: 9001 loss: 0.11149502 time: 0.0010s\n",
      "Epoch: 10001 loss: 0.11039422 time: 0.0010s\n",
      "Epoch: 11001 loss: 0.10981151 time: 0.0010s\n",
      "Epoch: 12001 loss: 0.10945521 time: 0.0000s\n",
      "Epoch: 13001 loss: 0.10903215 time: 0.0000s\n",
      "Epoch: 14001 loss: 0.10846125 time: 0.0000s\n",
      "Epoch: 15001 loss: 0.10798503 time: 0.0040s\n",
      "Epoch: 16001 loss: 0.10776261 time: 0.0030s\n",
      "Epoch: 17001 loss: 0.10748108 time: 0.0030s\n",
      "Epoch: 18001 loss: 0.10734694 time: 0.0000s\n",
      "Epoch: 19001 loss: 0.10734694 time: 0.0000s\n",
      "Optimization Finished!\n",
      "Total time elapsed: 23.8016s\n"
     ]
    }
   ],
   "source": [
    "dim=3\n",
    "p,losses = GraphNeuralNet(adj=adj,dim=dim)"
   ]
  },
  {
   "cell_type": "code",
   "execution_count": 13,
   "metadata": {},
   "outputs": [
    {
     "name": "stdout",
     "output_type": "stream",
     "text": [
      "NMI Score : 0.930000157198609\n"
     ]
    },
    {
     "data": {
      "image/png": "[encoded data removed]",
      "text/plain": [
       "<Figure size 432x288 with 1 Axes>"
      ]
     },
     "metadata": {
      "needs_background": "light"
     },
     "output_type": "display_data"
    }
   ],
   "source": [
    "plt.plot(losses)\n",
    "nmi = nmi_score(adj[0],p.reshape(adj.shape[1:]).detach())\n",
    "print(\"NMI Score : {}\".format(nmi))"
   ]
  },
  {
   "cell_type": "code",
   "execution_count": 14,
   "metadata": {},
   "outputs": [
    {
     "name": "stdout",
     "output_type": "stream",
     "text": [
      "Epoch: 0001 loss: 0.69315106 time: 0.0000s\n",
      "Epoch: 1001 loss: 0.07117777 time: 0.0030s\n",
      "Epoch: 2001 loss: 0.05655992 time: 0.0000s\n",
      "Epoch: 3001 loss: 0.04743750 time: 0.0000s\n",
      "Epoch: 4001 loss: 0.04449499 time: 0.0000s\n",
      "Epoch: 5001 loss: 0.04223744 time: 0.0040s\n",
      "Epoch: 6001 loss: 0.04087482 time: 0.0000s\n",
      "Epoch: 7001 loss: 0.03981902 time: 0.0040s\n",
      "Epoch: 8001 loss: 0.03858813 time: 0.0040s\n",
      "Epoch: 9001 loss: 0.03844355 time: 0.0000s\n",
      "Epoch: 10001 loss: 0.03780691 time: 0.0040s\n",
      "Epoch: 11001 loss: 0.03734947 time: 0.0040s\n",
      "Epoch: 12001 loss: 0.03643118 time: 0.0000s\n",
      "Epoch: 13001 loss: 0.03591245 time: 0.0000s\n",
      "Epoch: 14001 loss: 0.03527333 time: 0.0040s\n",
      "Epoch: 15001 loss: 0.03411976 time: 0.0000s\n",
      "Epoch: 16001 loss: 0.03374118 time: 0.0000s\n",
      "Epoch: 17001 loss: 0.03336966 time: 0.0000s\n",
      "Epoch: 18001 loss: 0.03336966 time: 0.0000s\n",
      "Epoch: 19001 loss: 0.03279232 time: 0.0000s\n",
      "Optimization Finished!\n",
      "Total time elapsed: 26.4085s\n"
     ]
    }
   ],
   "source": [
    "dim=4\n",
    "p,losses = GraphNeuralNet(adj=adj,dim=dim)"
   ]
  },
  {
   "cell_type": "code",
   "execution_count": 15,
   "metadata": {},
   "outputs": [
    {
     "name": "stdout",
     "output_type": "stream",
     "text": [
      "NMI Score : 0.8150419216347781\n"
     ]
    },
    {
     "data": {
      "image/png": "[encoded data removed]",
      "text/plain": [
       "<Figure size 432x288 with 1 Axes>"
      ]
     },
     "metadata": {
      "needs_background": "light"
     },
     "output_type": "display_data"
    }
   ],
   "source": [
    "plt.plot(losses)\n",
    "nmi = nmi_score(adj[0],p.reshape(adj.shape[1:]).detach())\n",
    "print(\"NMI Score : {}\".format(nmi))"
   ]
  }
 ],
 "metadata": {
  "kernelspec": {
   "display_name": "Python 3",
   "language": "python",
   "name": "python3"
  },
  "language_info": {
   "codemirror_mode": {
    "name": "ipython",
    "version": 3
   },
   "file_extension": ".py",
   "mimetype": "text/x-python",
   "name": "python",
   "nbconvert_exporter": "python",
   "pygments_lexer": "ipython3",
   "version": "3.8.7"
  }
 },
 "nbformat": 4,
 "nbformat_minor": 4
}
