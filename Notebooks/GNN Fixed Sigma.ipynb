{
 "cells": [
  {
   "cell_type": "code",
   "execution_count": 1,
   "metadata": {},
   "outputs": [],
   "source": [
    "from __future__ import division\n",
    "from __future__ import print_function\n",
    "\n",
    "import time\n",
    "import argparse\n",
    "import numpy as np\n",
    "\n",
    "import torch\n",
    "import torch.optim as optim\n",
    "\n",
    "from utils import load_data,normalize,toy_data,norm_embed,nmi_score\n",
    "\n",
    "import matplotlib.pyplot as plt "
   ]
  },
  {
   "cell_type": "code",
   "execution_count": 2,
   "metadata": {},
   "outputs": [],
   "source": [
    "import torch.nn as nn\n",
    "import torch.nn.functional as F\n",
    "from layers import GraphConvolution, InnerProduct\n",
    "from utils import norm_embed\n",
    "import torch"
   ]
  },
  {
   "cell_type": "code",
   "execution_count": 3,
   "metadata": {},
   "outputs": [],
   "source": [
    "class GNN(nn.Module):\n",
    "    \n",
    "    def __init__(self, batch_size, nfeat, nhid, ndim):\n",
    "        super(GNN, self).__init__()\n",
    "\n",
    "        self.gc1 = GraphConvolution(batch_size, nfeat, nhid)\n",
    "        self.embeddings = GraphConvolution(batch_size, nhid, 2*ndim)\n",
    "        self.reconstructions = InnerProduct(2*ndim)\n",
    "\n",
    "    def forward(self, x, adj):\n",
    "        x = F.relu(self.gc1(x, adj))\n",
    "        x = self.embeddings(x, adj)\n",
    "        x = norm_embed(x)\n",
    "        mu = F.relu(self.reconstructions(x))\n",
    "        return mu\n",
    "    "
   ]
  },
  {
   "cell_type": "code",
   "execution_count": 4,
   "metadata": {},
   "outputs": [],
   "source": [
    "np.set_printoptions(suppress=True)\n",
    "torch.set_printoptions(sci_mode=False,precision=8)"
   ]
  },
  {
   "cell_type": "code",
   "execution_count": 5,
   "metadata": {},
   "outputs": [],
   "source": [
    "# Training settings\n",
    "parser = argparse.ArgumentParser()\n",
    "parser.add_argument('--no-cuda', action='store_true', default=False,\n",
    "                    help='Disables CUDA training.')\n",
    "parser.add_argument('--fastmode', action='store_true', default=False,\n",
    "                    help='Validate during training pass.')\n",
    "parser.add_argument('--seed', type=int, default=426, help='Random seed.')\n",
    "parser.add_argument('--epochs', type=int, default=5000,\n",
    "                    help='Number of epochs to train.')\n",
    "parser.add_argument('--lr', type=float, default=0.01,\n",
    "                    help='Initial learning rate.')\n",
    "parser.add_argument('--weight_decay', type=float, default=10e-8,\n",
    "                    help='Weight decay (L2 loss on parameters).')\n",
    "parser.add_argument('--hidden', type=int, default=16,\n",
    "                    help='Number of hidden units.')\n",
    "parser.add_argument('--ndim', type=int, default=2,\n",
    "                    help='Embeddings dimension.')\n",
    "\n",
    "args = parser.parse_args(args=[])\n",
    "args.cuda = not args.no_cuda and torch.cuda.is_available()"
   ]
  },
  {
   "cell_type": "code",
   "execution_count": 6,
   "metadata": {},
   "outputs": [],
   "source": [
    "if 1:\n",
    "    # Taxi Dataset Graph\n",
    "    adj = load_data()\n",
    "    #adj = load_data(daily=True)\n",
    "else:\n",
    "    #Toy Example Graph\n",
    "    adj = toy_data()"
   ]
  },
  {
   "cell_type": "code",
   "execution_count": 7,
   "metadata": {},
   "outputs": [],
   "source": [
    "def GraphNeuralNet(adj,dim):\n",
    "    \n",
    "    # Set the random seed\n",
    "    np.random.seed(args.seed)\n",
    "    torch.manual_seed(args.seed)\n",
    "    if args.cuda:\n",
    "        torch.cuda.manual_seed(args.seed)\n",
    "        \n",
    "    args.ndim = dim\n",
    "    \n",
    "    adj_norm = normalize(adj)\n",
    "\n",
    "    adj = torch.FloatTensor(np.array(adj))\n",
    "    adj_norm = torch.FloatTensor(np.array(adj_norm))\n",
    "\n",
    "    # Model and optimizer\n",
    "    model = GNN(batch_size=adj_norm.shape[0],\n",
    "                nfeat=adj_norm.shape[1],\n",
    "                nhid=args.hidden,\n",
    "                ndim=args.ndim)\n",
    "\n",
    "    activation = {}\n",
    "    def get_activation(name):\n",
    "        def hook(model, input, output):\n",
    "            activation[name] = output.detach()\n",
    "        return hook\n",
    "\n",
    "    model.embeddings.register_forward_hook(get_activation('embeddings'))\n",
    "\n",
    "\n",
    "    optimizer = optim.Adam(model.parameters(),\n",
    "                           lr=args.lr, weight_decay=args.weight_decay)\n",
    "\n",
    "\n",
    "\n",
    "    features = torch.FloatTensor(torch.eye(adj.shape[1]))\n",
    "    features = features.reshape((1,adj.shape[1],adj.shape[1]))\n",
    "    features = features.repeat(adj.shape[0], 1, 1)\n",
    "\n",
    "    if args.cuda:\n",
    "        model.cuda()\n",
    "        features = features.cuda()\n",
    "        adj = adj.cuda()\n",
    "        adj_norm = adj_norm.cuda()\n",
    "\n",
    "\n",
    "    # Train model\n",
    "    t_total = time.time()\n",
    "    A2norm = (adj_norm ** 2).mean()\n",
    "    #A2norm = (adj_norm ** 2).view(adj_norm.shape[0],-1).mean(axis=1)\n",
    "    \n",
    "    losses = []\n",
    "\n",
    "    for epoch in range(args.epochs):\n",
    "\n",
    "        t = time.time()\n",
    "        model.train()\n",
    "        optimizer.zero_grad()\n",
    "        mu = model(features, adj_norm)\n",
    "        \n",
    "        with torch.no_grad():\n",
    "            mse = torch.nn.MSELoss()\n",
    "            mseloss = mse(torch.flatten(mu),torch.flatten(adj_norm))\n",
    "            sig = torch.sqrt(mseloss)\n",
    "        sigma = sig * torch.ones(adj_norm.shape,requires_grad=True)\n",
    "        \n",
    "        # loss function\n",
    "        criterion = torch.nn.GaussianNLLLoss()\n",
    "        loss = criterion(torch.flatten(adj_norm), torch.flatten(mu), torch.flatten(sigma)) #/ A2norm\n",
    "        loss.backward()\n",
    "        optimizer.step()\n",
    "\n",
    "        if epoch == 0:\n",
    "            best_loss = loss\n",
    "        else:\n",
    "            if loss < best_loss:\n",
    "                best_loss = loss\n",
    "\n",
    "        if epoch % 100 == 0:\n",
    "            print('Epoch: {:04d}'.format(epoch + 1),\n",
    "                  'loss: {:.8f}'.format(best_loss.item()),\n",
    "                  'time: {:.4f}s'.format(time.time() - t))\n",
    "            \n",
    "        losses.append(loss)\n",
    "\n",
    "    print(\"Optimization Finished!\")\n",
    "    print(\"Total time elapsed: {:.4f}s\".format(time.time() - t_total))\n",
    "    \n",
    "    return adj_norm,mu,losses\n"
   ]
  },
  {
   "cell_type": "code",
   "execution_count": 8,
   "metadata": {},
   "outputs": [
    {
     "name": "stdout",
     "output_type": "stream",
     "text": [
      "Epoch: 0001 loss: -2.28350091 time: 0.0000s\n",
      "Epoch: 0101 loss: -2.33948970 time: 0.0080s\n",
      "Epoch: 0201 loss: -2.33950472 time: 0.0000s\n",
      "Epoch: 0301 loss: -2.33950663 time: 0.0080s\n",
      "Epoch: 0401 loss: -2.33950734 time: 0.0000s\n",
      "Epoch: 0501 loss: -2.33950758 time: 0.0000s\n",
      "Epoch: 0601 loss: -2.33950782 time: 0.0000s\n",
      "Epoch: 0701 loss: -2.33950806 time: 0.0000s\n",
      "Epoch: 0801 loss: -2.33950806 time: 0.0080s\n",
      "Epoch: 0901 loss: -2.33950830 time: 0.0000s\n",
      "Epoch: 1001 loss: -2.33950830 time: 0.0000s\n",
      "Epoch: 1101 loss: -2.33950830 time: 0.0000s\n",
      "Epoch: 1201 loss: -2.33950877 time: 0.0019s\n",
      "Epoch: 1301 loss: -2.33950877 time: 0.0000s\n",
      "Epoch: 1401 loss: -2.33950877 time: 0.0000s\n",
      "Epoch: 1501 loss: -2.33950877 time: 0.0080s\n",
      "Epoch: 1601 loss: -2.33950877 time: 0.0000s\n",
      "Epoch: 1701 loss: -2.33950877 time: 0.0000s\n",
      "Epoch: 1801 loss: -2.33950877 time: 0.0000s\n",
      "Epoch: 1901 loss: -2.33950877 time: 0.0080s\n",
      "Epoch: 2001 loss: -2.33950877 time: 0.0000s\n",
      "Epoch: 2101 loss: -2.33950877 time: 0.0000s\n",
      "Epoch: 2201 loss: -2.33950877 time: 0.0000s\n",
      "Epoch: 2301 loss: -2.33950877 time: 0.0080s\n",
      "Epoch: 2401 loss: -2.33950877 time: 0.0000s\n",
      "Epoch: 2501 loss: -2.33950877 time: 0.0000s\n",
      "Epoch: 2601 loss: -2.33950877 time: 0.0000s\n",
      "Epoch: 2701 loss: -2.33950877 time: 0.0080s\n",
      "Epoch: 2801 loss: -2.33950877 time: 0.0000s\n",
      "Epoch: 2901 loss: -2.33950877 time: 0.0000s\n",
      "Epoch: 3001 loss: -2.33950877 time: 0.0080s\n",
      "Epoch: 3101 loss: -2.33950877 time: 0.0000s\n",
      "Epoch: 3201 loss: -2.33950877 time: 0.0080s\n",
      "Epoch: 3301 loss: -2.33950877 time: 0.0080s\n",
      "Epoch: 3401 loss: -2.33950877 time: 0.0080s\n",
      "Epoch: 3501 loss: -2.33950877 time: 0.0080s\n",
      "Epoch: 3601 loss: -2.33950877 time: 0.0000s\n",
      "Epoch: 3701 loss: -2.33950877 time: 0.0000s\n",
      "Epoch: 3801 loss: -2.33950877 time: 0.0000s\n",
      "Epoch: 3901 loss: -2.33950877 time: 0.0080s\n",
      "Epoch: 4001 loss: -2.33950877 time: 0.0040s\n",
      "Epoch: 4101 loss: -2.33950877 time: 0.0040s\n",
      "Epoch: 4201 loss: -2.33950877 time: 0.0040s\n",
      "Epoch: 4301 loss: -2.33950877 time: 0.0040s\n",
      "Epoch: 4401 loss: -2.33950877 time: 0.0000s\n",
      "Epoch: 4501 loss: -2.33950877 time: 0.0040s\n",
      "Epoch: 4601 loss: -2.33950877 time: 0.0040s\n",
      "Epoch: 4701 loss: -2.33950877 time: 0.0040s\n",
      "Epoch: 4801 loss: -2.33950877 time: 0.0040s\n",
      "Epoch: 4901 loss: -2.33950877 time: 0.0040s\n",
      "Optimization Finished!\n",
      "Total time elapsed: 13.7129s\n"
     ]
    }
   ],
   "source": [
    "dim=1\n",
    "adj_norm,mu,losses = GraphNeuralNet(adj=adj,dim=dim)"
   ]
  },
  {
   "cell_type": "code",
   "execution_count": 9,
   "metadata": {},
   "outputs": [
    {
     "name": "stdout",
     "output_type": "stream",
     "text": [
      "NMI Score : 0.10148830686294205\n"
     ]
    },
    {
     "data": {
      "image/png": "[encoded data removed]",
      "text/plain": [
       "<Figure size 432x288 with 1 Axes>"
      ]
     },
     "metadata": {
      "needs_background": "light"
     },
     "output_type": "display_data"
    }
   ],
   "source": [
    "plt.plot(losses)\n",
    "nmi = nmi_score(adj_norm[0],mu.reshape(adj_norm.shape[1:]).detach())\n",
    "print(\"NMI Score : {}\".format(nmi))"
   ]
  },
  {
   "cell_type": "code",
   "execution_count": 10,
   "metadata": {},
   "outputs": [
    {
     "name": "stdout",
     "output_type": "stream",
     "text": [
      "Epoch: 0001 loss: -2.28350401 time: 0.0040s\n",
      "Epoch: 0101 loss: -2.39309621 time: 0.0040s\n",
      "Epoch: 0201 loss: -2.40448833 time: 0.0040s\n",
      "Epoch: 0301 loss: -2.40970778 time: 0.0030s\n",
      "Epoch: 0401 loss: -2.41365290 time: 0.0030s\n",
      "Epoch: 0501 loss: -2.41442108 time: 0.0050s\n",
      "Epoch: 0601 loss: -2.41666293 time: 0.0040s\n",
      "Epoch: 0701 loss: -2.41876054 time: 0.0040s\n",
      "Epoch: 0801 loss: -2.41876054 time: 0.0040s\n",
      "Epoch: 0901 loss: -2.41942906 time: 0.0030s\n",
      "Epoch: 1001 loss: -2.42049456 time: 0.0030s\n",
      "Epoch: 1101 loss: -2.42142701 time: 0.0020s\n",
      "Epoch: 1201 loss: -2.42142701 time: 0.0040s\n",
      "Epoch: 1301 loss: -2.42233849 time: 0.0030s\n",
      "Epoch: 1401 loss: -2.42284632 time: 0.0040s\n",
      "Epoch: 1501 loss: -2.42314434 time: 0.0030s\n",
      "Epoch: 1601 loss: -2.42367744 time: 0.0040s\n",
      "Epoch: 1701 loss: -2.42405295 time: 0.0030s\n",
      "Epoch: 1801 loss: -2.42456722 time: 0.0030s\n",
      "Epoch: 1901 loss: -2.42797065 time: 0.0030s\n",
      "Epoch: 2001 loss: -2.43076444 time: 0.0040s\n",
      "Epoch: 2101 loss: -2.43263221 time: 0.0030s\n",
      "Epoch: 2201 loss: -2.43377185 time: 0.0030s\n",
      "Epoch: 2301 loss: -2.43399787 time: 0.0030s\n",
      "Epoch: 2401 loss: -2.43479896 time: 0.0040s\n",
      "Epoch: 2501 loss: -2.43511748 time: 0.0050s\n",
      "Epoch: 2601 loss: -2.43563056 time: 0.0030s\n",
      "Epoch: 2701 loss: -2.43601227 time: 0.0050s\n",
      "Epoch: 2801 loss: -2.43613839 time: 0.0050s\n",
      "Epoch: 2901 loss: -2.43651915 time: 0.0050s\n",
      "Epoch: 3001 loss: -2.43692470 time: 0.0040s\n",
      "Epoch: 3101 loss: -2.43731880 time: 0.0040s\n",
      "Epoch: 3201 loss: -2.43732023 time: 0.0040s\n",
      "Epoch: 3301 loss: -2.43752575 time: 0.0040s\n",
      "Epoch: 3401 loss: -2.43772626 time: 0.0040s\n",
      "Epoch: 3501 loss: -2.43792629 time: 0.0000s\n",
      "Epoch: 3601 loss: -2.43832445 time: 0.0040s\n",
      "Epoch: 3701 loss: -2.43839860 time: 0.0040s\n",
      "Epoch: 3801 loss: -2.43839860 time: 0.0040s\n",
      "Epoch: 3901 loss: -2.43863082 time: 0.0040s\n",
      "Epoch: 4001 loss: -2.43880272 time: 0.0040s\n",
      "Epoch: 4101 loss: -2.43881536 time: 0.0000s\n",
      "Epoch: 4201 loss: -2.43904495 time: 0.0080s\n",
      "Epoch: 4301 loss: -2.43911004 time: 0.0040s\n",
      "Epoch: 4401 loss: -2.43942094 time: 0.0040s\n",
      "Epoch: 4501 loss: -2.43952537 time: 0.0060s\n",
      "Epoch: 4601 loss: -2.43952537 time: 0.0030s\n",
      "Epoch: 4701 loss: -2.43973708 time: 0.0060s\n",
      "Epoch: 4801 loss: -2.43973708 time: 0.0030s\n",
      "Epoch: 4901 loss: -2.43973708 time: 0.0030s\n",
      "Optimization Finished!\n",
      "Total time elapsed: 18.9749s\n"
     ]
    }
   ],
   "source": [
    "dim=2\n",
    "adj_norm,mu,losses = GraphNeuralNet(adj=adj,dim=dim)"
   ]
  },
  {
   "cell_type": "code",
   "execution_count": 11,
   "metadata": {},
   "outputs": [
    {
     "name": "stdout",
     "output_type": "stream",
     "text": [
      "NMI Score : 0.7658681269221899\n"
     ]
    },
    {
     "data": {
      "image/png": "[encoded data removed]",
      "text/plain": [
       "<Figure size 432x288 with 1 Axes>"
      ]
     },
     "metadata": {
      "needs_background": "light"
     },
     "output_type": "display_data"
    }
   ],
   "source": [
    "plt.plot(losses)\n",
    "nmi = nmi_score(adj_norm[0],mu.reshape(adj_norm.shape[1:]).detach())\n",
    "print(\"NMI Score : {}\".format(nmi))"
   ]
  },
  {
   "cell_type": "code",
   "execution_count": 12,
   "metadata": {},
   "outputs": [
    {
     "name": "stdout",
     "output_type": "stream",
     "text": [
      "Epoch: 0001 loss: -2.28350282 time: 0.0050s\n",
      "Epoch: 0101 loss: -2.45478320 time: 0.0060s\n",
      "Epoch: 0201 loss: -2.48810029 time: 0.0060s\n",
      "Epoch: 0301 loss: -2.49836445 time: 0.0030s\n",
      "Epoch: 0401 loss: -2.49836445 time: 0.0060s\n",
      "Epoch: 0501 loss: -2.49836445 time: 0.0060s\n",
      "Epoch: 0601 loss: -2.50400233 time: 0.0060s\n",
      "Epoch: 0701 loss: -2.52311993 time: 0.0060s\n",
      "Epoch: 0801 loss: -2.53734303 time: 0.0030s\n",
      "Epoch: 0901 loss: -2.54314971 time: 0.0060s\n",
      "Epoch: 1001 loss: -2.54634166 time: 0.0060s\n",
      "Epoch: 1101 loss: -2.54934311 time: 0.0030s\n",
      "Epoch: 1201 loss: -2.55147600 time: 0.0060s\n",
      "Epoch: 1301 loss: -2.55429459 time: 0.0041s\n",
      "Epoch: 1401 loss: -2.55626106 time: 0.0040s\n",
      "Epoch: 1501 loss: -2.55832958 time: 0.0040s\n",
      "Epoch: 1601 loss: -2.55988455 time: 0.0040s\n",
      "Epoch: 1701 loss: -2.55992436 time: 0.0040s\n",
      "Epoch: 1801 loss: -2.56178832 time: 0.0040s\n",
      "Epoch: 1901 loss: -2.56323957 time: 0.0040s\n",
      "Epoch: 2001 loss: -2.56393337 time: 0.0080s\n",
      "Epoch: 2101 loss: -2.56459737 time: 0.0040s\n",
      "Epoch: 2201 loss: -2.56505275 time: 0.0080s\n",
      "Epoch: 2301 loss: -2.56621718 time: 0.0040s\n",
      "Epoch: 2401 loss: -2.56649780 time: 0.0040s\n",
      "Epoch: 2501 loss: -2.56729436 time: 0.0000s\n",
      "Epoch: 2601 loss: -2.56789756 time: 0.0040s\n",
      "Epoch: 2701 loss: -2.56819320 time: 0.0040s\n",
      "Epoch: 2801 loss: -2.56820154 time: 0.0040s\n",
      "Epoch: 2901 loss: -2.56896567 time: 0.0040s\n",
      "Epoch: 3001 loss: -2.56965637 time: 0.0040s\n",
      "Epoch: 3101 loss: -2.56993437 time: 0.0040s\n",
      "Epoch: 3201 loss: -2.57049179 time: 0.0040s\n",
      "Epoch: 3301 loss: -2.57081914 time: 0.0040s\n",
      "Epoch: 3401 loss: -2.57136512 time: 0.0040s\n",
      "Epoch: 3501 loss: -2.57167673 time: 0.0040s\n",
      "Epoch: 3601 loss: -2.57193351 time: 0.0040s\n",
      "Epoch: 3701 loss: -2.57235074 time: 0.0040s\n",
      "Epoch: 3801 loss: -2.57282805 time: 0.0040s\n",
      "Epoch: 3901 loss: -2.57306480 time: 0.0080s\n",
      "Epoch: 4001 loss: -2.57313490 time: 0.0040s\n",
      "Epoch: 4101 loss: -2.57393336 time: 0.0040s\n",
      "Epoch: 4201 loss: -2.57417369 time: 0.0080s\n",
      "Epoch: 4301 loss: -2.57446241 time: 0.0040s\n",
      "Epoch: 4401 loss: -2.57489371 time: 0.0040s\n",
      "Epoch: 4501 loss: -2.57534838 time: 0.0040s\n",
      "Epoch: 4601 loss: -2.57572174 time: 0.0040s\n",
      "Epoch: 4701 loss: -2.57587719 time: 0.0040s\n",
      "Epoch: 4801 loss: -2.57651472 time: 0.0040s\n",
      "Epoch: 4901 loss: -2.57651472 time: 0.0040s\n",
      "Optimization Finished!\n",
      "Total time elapsed: 22.2536s\n"
     ]
    }
   ],
   "source": [
    "dim=3\n",
    "adj_norm,mu,losses = GraphNeuralNet(adj=adj,dim=dim)"
   ]
  },
  {
   "cell_type": "code",
   "execution_count": 13,
   "metadata": {},
   "outputs": [
    {
     "name": "stdout",
     "output_type": "stream",
     "text": [
      "NMI Score : 0.7256382372295549\n"
     ]
    },
    {
     "data": {
      "image/png": "[encoded data removed]",
      "text/plain": [
       "<Figure size 432x288 with 1 Axes>"
      ]
     },
     "metadata": {
      "needs_background": "light"
     },
     "output_type": "display_data"
    }
   ],
   "source": [
    "plt.plot(losses)\n",
    "nmi = nmi_score(adj_norm[0],mu.reshape(adj_norm.shape[1:]).detach())\n",
    "print(\"NMI Score : {}\".format(nmi))"
   ]
  },
  {
   "cell_type": "code",
   "execution_count": 14,
   "metadata": {},
   "outputs": [
    {
     "name": "stdout",
     "output_type": "stream",
     "text": [
      "Epoch: 0001 loss: -2.28350091 time: 0.0040s\n",
      "Epoch: 0101 loss: -2.50200987 time: 0.0040s\n",
      "Epoch: 0201 loss: -2.60107255 time: 0.0040s\n",
      "Epoch: 0301 loss: -2.63626528 time: 0.0040s\n",
      "Epoch: 0401 loss: -2.65242624 time: 0.0040s\n",
      "Epoch: 0501 loss: -2.66376662 time: 0.0040s\n",
      "Epoch: 0601 loss: -2.67237639 time: 0.0040s\n",
      "Epoch: 0701 loss: -2.67796469 time: 0.0040s\n",
      "Epoch: 0801 loss: -2.68218637 time: 0.0040s\n",
      "Epoch: 0901 loss: -2.68556166 time: 0.0040s\n",
      "Epoch: 1001 loss: -2.69035077 time: 0.0040s\n",
      "Epoch: 1101 loss: -2.69338417 time: 0.0040s\n",
      "Epoch: 1201 loss: -2.69606423 time: 0.0040s\n",
      "Epoch: 1301 loss: -2.69838142 time: 0.0080s\n",
      "Epoch: 1401 loss: -2.69961023 time: 0.0040s\n",
      "Epoch: 1501 loss: -2.70084023 time: 0.0040s\n",
      "Epoch: 1601 loss: -2.70184803 time: 0.0040s\n",
      "Epoch: 1701 loss: -2.70307541 time: 0.0040s\n",
      "Epoch: 1801 loss: -2.70415664 time: 0.0080s\n",
      "Epoch: 1901 loss: -2.70502043 time: 0.0040s\n",
      "Epoch: 2001 loss: -2.70571065 time: 0.0080s\n",
      "Epoch: 2101 loss: -2.70654368 time: 0.0040s\n",
      "Epoch: 2201 loss: -2.70714426 time: 0.0040s\n",
      "Epoch: 2301 loss: -2.70742488 time: 0.0040s\n",
      "Epoch: 2401 loss: -2.70821977 time: 0.0040s\n",
      "Epoch: 2501 loss: -2.70876694 time: 0.0040s\n",
      "Epoch: 2601 loss: -2.70932579 time: 0.0040s\n",
      "Epoch: 2701 loss: -2.70959449 time: 0.0040s\n",
      "Epoch: 2801 loss: -2.71015406 time: 0.0040s\n",
      "Epoch: 2901 loss: -2.71065974 time: 0.0040s\n",
      "Epoch: 3001 loss: -2.71102023 time: 0.0040s\n",
      "Epoch: 3101 loss: -2.71136832 time: 0.0040s\n",
      "Epoch: 3201 loss: -2.71181512 time: 0.0040s\n",
      "Epoch: 3301 loss: -2.71181512 time: 0.0040s\n",
      "Epoch: 3401 loss: -2.71199965 time: 0.0040s\n",
      "Epoch: 3501 loss: -2.71325374 time: 0.0040s\n",
      "Epoch: 3601 loss: -2.71365571 time: 0.0080s\n",
      "Epoch: 3701 loss: -2.71365571 time: 0.0040s\n",
      "Epoch: 3801 loss: -2.71383858 time: 0.0040s\n",
      "Epoch: 3901 loss: -2.71440434 time: 0.0040s\n",
      "Epoch: 4001 loss: -2.71503735 time: 0.0040s\n",
      "Epoch: 4101 loss: -2.71541786 time: 0.0040s\n",
      "Epoch: 4201 loss: -2.71542954 time: 0.0050s\n",
      "Epoch: 4301 loss: -2.71562696 time: 0.0050s\n",
      "Epoch: 4401 loss: -2.71605229 time: 0.0050s\n",
      "Epoch: 4501 loss: -2.71665978 time: 0.0050s\n",
      "Epoch: 4601 loss: -2.71679711 time: 0.0050s\n",
      "Epoch: 4701 loss: -2.71712589 time: 0.0050s\n",
      "Epoch: 4801 loss: -2.71712589 time: 0.0110s\n",
      "Epoch: 4901 loss: -2.71791291 time: 0.0070s\n",
      "Optimization Finished!\n",
      "Total time elapsed: 23.5995s\n"
     ]
    }
   ],
   "source": [
    "dim=4\n",
    "adj_norm,mu,losses = GraphNeuralNet(adj=adj,dim=dim)"
   ]
  },
  {
   "cell_type": "code",
   "execution_count": 15,
   "metadata": {},
   "outputs": [
    {
     "name": "stdout",
     "output_type": "stream",
     "text": [
      "NMI Score : 0.7347108991055938\n"
     ]
    },
    {
     "data": {
      "image/png": "[encoded data removed]",
      "text/plain": [
       "<Figure size 432x288 with 1 Axes>"
      ]
     },
     "metadata": {
      "needs_background": "light"
     },
     "output_type": "display_data"
    }
   ],
   "source": [
    "plt.plot(losses)\n",
    "nmi = nmi_score(adj_norm[0],mu.reshape(adj_norm.shape[1:]).detach())\n",
    "print(\"NMI Score : {}\".format(nmi))"
   ]
  }
 ],
 "metadata": {
  "kernelspec": {
   "display_name": "Python 3",
   "language": "python",
   "name": "python3"
  },
  "language_info": {
   "codemirror_mode": {
    "name": "ipython",
    "version": 3
   },
   "file_extension": ".py",
   "mimetype": "text/x-python",
   "name": "python",
   "nbconvert_exporter": "python",
   "pygments_lexer": "ipython3",
   "version": "3.8.7"
  }
 },
 "nbformat": 4,
 "nbformat_minor": 4
}
