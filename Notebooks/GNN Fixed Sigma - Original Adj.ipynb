{
 "cells": [
  {
   "cell_type": "code",
   "execution_count": 1,
   "metadata": {},
   "outputs": [],
   "source": [
    "from __future__ import division\n",
    "from __future__ import print_function\n",
    "\n",
    "import time\n",
    "import argparse\n",
    "import numpy as np\n",
    "\n",
    "import torch\n",
    "import torch.optim as optim\n",
    "\n",
    "from utils import load_data,normalize,toy_data,norm_embed,nmi_score\n",
    "\n",
    "import matplotlib.pyplot as plt "
   ]
  },
  {
   "cell_type": "code",
   "execution_count": 2,
   "metadata": {},
   "outputs": [],
   "source": [
    "import torch.nn as nn\n",
    "import torch.nn.functional as F\n",
    "from layers import GraphConvolution, InnerProduct\n",
    "from utils import norm_embed\n",
    "import torch"
   ]
  },
  {
   "cell_type": "code",
   "execution_count": 3,
   "metadata": {},
   "outputs": [],
   "source": [
    "class GNN(nn.Module):\n",
    "    \n",
    "    def __init__(self, batch_size, nfeat, nhid, ndim):\n",
    "        super(GNN, self).__init__()\n",
    "\n",
    "        self.gc1 = GraphConvolution(batch_size, nfeat, nhid)\n",
    "        self.embeddings = GraphConvolution(batch_size, nhid, 2*ndim)\n",
    "        self.reconstructions = InnerProduct(2*ndim)\n",
    "\n",
    "    def forward(self, x, adj):\n",
    "        x = F.relu(self.gc1(x, adj))\n",
    "        x = self.embeddings(x, adj)\n",
    "        x = norm_embed(x)\n",
    "        mu = F.relu(self.reconstructions(x))\n",
    "        return mu\n",
    "    "
   ]
  },
  {
   "cell_type": "code",
   "execution_count": 4,
   "metadata": {},
   "outputs": [],
   "source": [
    "np.set_printoptions(suppress=True)\n",
    "torch.set_printoptions(sci_mode=False,precision=8)"
   ]
  },
  {
   "cell_type": "code",
   "execution_count": 5,
   "metadata": {},
   "outputs": [],
   "source": [
    "# Training settings\n",
    "parser = argparse.ArgumentParser()\n",
    "parser.add_argument('--no-cuda', action='store_true', default=False,\n",
    "                    help='Disables CUDA training.')\n",
    "parser.add_argument('--fastmode', action='store_true', default=False,\n",
    "                    help='Validate during training pass.')\n",
    "parser.add_argument('--seed', type=int, default=426, help='Random seed.')\n",
    "parser.add_argument('--epochs', type=int, default=5000,\n",
    "                    help='Number of epochs to train.')\n",
    "parser.add_argument('--lr', type=float, default=0.1,\n",
    "                    help='Initial learning rate.')\n",
    "parser.add_argument('--weight_decay', type=float, default=10e-8,\n",
    "                    help='Weight decay (L2 loss on parameters).')\n",
    "parser.add_argument('--hidden', type=int, default=16,\n",
    "                    help='Number of hidden units.')\n",
    "parser.add_argument('--ndim', type=int, default=2,\n",
    "                    help='Embeddings dimension.')\n",
    "\n",
    "args = parser.parse_args(args=[])\n",
    "args.cuda = not args.no_cuda and torch.cuda.is_available()"
   ]
  },
  {
   "cell_type": "code",
   "execution_count": 6,
   "metadata": {},
   "outputs": [],
   "source": [
    "if 1:\n",
    "    # Taxi Dataset Graph\n",
    "    adj = load_data()\n",
    "    #adj = load_data(daily=True)\n",
    "else:\n",
    "    #Toy Example Graph\n",
    "    adj = toy_data()"
   ]
  },
  {
   "cell_type": "code",
   "execution_count": 7,
   "metadata": {},
   "outputs": [],
   "source": [
    "def GraphNeuralNet(adj,dim):\n",
    "    \n",
    "    # Set the random seed\n",
    "    np.random.seed(args.seed)\n",
    "    torch.manual_seed(args.seed)\n",
    "    if args.cuda:\n",
    "        torch.cuda.manual_seed(args.seed)\n",
    "        \n",
    "    args.ndim = dim\n",
    "    \n",
    "    adj_norm = normalize(adj)\n",
    "\n",
    "    adj = torch.FloatTensor(np.array(adj))\n",
    "    adj_norm = torch.FloatTensor(np.array(adj_norm))\n",
    "\n",
    "    # Model and optimizer\n",
    "    model = GNN(batch_size=adj_norm.shape[0],\n",
    "                nfeat=adj_norm.shape[1],\n",
    "                nhid=args.hidden,\n",
    "                ndim=args.ndim)\n",
    "\n",
    "    activation = {}\n",
    "    def get_activation(name):\n",
    "        def hook(model, input, output):\n",
    "            activation[name] = output.detach()\n",
    "        return hook\n",
    "\n",
    "    model.embeddings.register_forward_hook(get_activation('embeddings'))\n",
    "\n",
    "\n",
    "    optimizer = optim.Adam(model.parameters(),\n",
    "                           lr=args.lr, weight_decay=args.weight_decay)\n",
    "\n",
    "\n",
    "\n",
    "    features = torch.FloatTensor(torch.eye(adj.shape[1]))\n",
    "    features = features.reshape((1,adj.shape[1],adj.shape[1]))\n",
    "    features = features.repeat(adj.shape[0], 1, 1)\n",
    "\n",
    "    if args.cuda:\n",
    "        model.cuda()\n",
    "        features = features.cuda()\n",
    "        adj = adj.cuda()\n",
    "        adj_norm = adj_norm.cuda()\n",
    "\n",
    "\n",
    "    # Train model\n",
    "    t_total = time.time()\n",
    "    A2norm = (adj ** 2).mean()\n",
    "    #A2norm = (adj_norm ** 2).view(adj_norm.shape[0],-1).mean(axis=1)\n",
    "    \n",
    "    losses = []\n",
    "\n",
    "    for epoch in range(args.epochs):\n",
    "\n",
    "        t = time.time()\n",
    "        model.train()\n",
    "        optimizer.zero_grad()\n",
    "        mu = model(features, adj_norm)\n",
    "        \n",
    "        with torch.no_grad():\n",
    "            mse = torch.nn.MSELoss()\n",
    "            mseloss = mse(torch.flatten(mu),torch.flatten(adj_norm))\n",
    "            sig = torch.sqrt(mseloss)\n",
    "        sigma = sig * torch.ones(adj_norm.shape,requires_grad=True)\n",
    "        \n",
    "        # loss function\n",
    "        criterion = torch.nn.GaussianNLLLoss()\n",
    "        loss = criterion(torch.flatten(adj), torch.flatten(mu), torch.flatten(sigma)) #/ A2norm\n",
    "        loss.backward()\n",
    "        optimizer.step()\n",
    "\n",
    "        if epoch == 0:\n",
    "            best_loss = loss\n",
    "        else:\n",
    "            if loss < best_loss:\n",
    "                best_loss = loss\n",
    "\n",
    "        if epoch % 100 == 0:\n",
    "            print('Epoch: {:04d}'.format(epoch + 1),\n",
    "                  'loss: {:.8f}'.format(best_loss.item()),\n",
    "                  'time: {:.4f}s'.format(time.time() - t))\n",
    "            \n",
    "        losses.append(loss)\n",
    "\n",
    "    print(\"Optimization Finished!\")\n",
    "    print(\"Total time elapsed: {:.4f}s\".format(time.time() - t_total))\n",
    "    \n",
    "    return adj,mu,losses\n"
   ]
  },
  {
   "cell_type": "code",
   "execution_count": 8,
   "metadata": {},
   "outputs": [
    {
     "name": "stdout",
     "output_type": "stream",
     "text": [
      "Epoch: 0001 loss: 129507164160.00000000 time: 0.0080s\n",
      "Epoch: 0101 loss: 96774.69531250 time: 0.0000s\n",
      "Epoch: 0201 loss: 39551.61718750 time: 0.0040s\n",
      "Epoch: 0301 loss: 28388.00390625 time: 0.0000s\n",
      "Epoch: 0401 loss: 24855.05468750 time: 0.0000s\n",
      "Epoch: 0501 loss: 23092.04687500 time: 0.0040s\n",
      "Epoch: 0601 loss: 21828.94335938 time: 0.0040s\n",
      "Epoch: 0701 loss: 20994.65234375 time: 0.0000s\n",
      "Epoch: 0801 loss: 20447.99609375 time: 0.0040s\n",
      "Epoch: 0901 loss: 20018.41601562 time: 0.0021s\n",
      "Epoch: 1001 loss: 19695.66796875 time: 0.0040s\n",
      "Epoch: 1101 loss: 19458.37695312 time: 0.0040s\n",
      "Epoch: 1201 loss: 19205.09179688 time: 0.0000s\n",
      "Epoch: 1301 loss: 19018.10742188 time: 0.0026s\n",
      "Epoch: 1401 loss: 18825.27343750 time: 0.0040s\n",
      "Epoch: 1501 loss: 18625.29101562 time: 0.0025s\n",
      "Epoch: 1601 loss: 18552.55859375 time: 0.0040s\n",
      "Epoch: 1701 loss: 18552.55859375 time: 0.0000s\n",
      "Epoch: 1801 loss: 18552.55859375 time: 0.0040s\n",
      "Epoch: 1901 loss: 18552.55859375 time: 0.0000s\n",
      "Epoch: 2001 loss: 18456.47265625 time: 0.0000s\n",
      "Epoch: 2101 loss: 18343.59570312 time: 0.0040s\n",
      "Epoch: 2201 loss: 18233.44140625 time: 0.0000s\n",
      "Epoch: 2301 loss: 18083.23046875 time: 0.0040s\n",
      "Epoch: 2401 loss: 17953.34375000 time: 0.0025s\n",
      "Epoch: 2501 loss: 17889.36718750 time: 0.0000s\n",
      "Epoch: 2601 loss: 17830.70507812 time: 0.0030s\n",
      "Epoch: 2701 loss: 17777.60937500 time: 0.0040s\n",
      "Epoch: 2801 loss: 17731.11328125 time: 0.0019s\n",
      "Epoch: 2901 loss: 17679.40234375 time: 0.0040s\n",
      "Epoch: 3001 loss: 17623.77734375 time: 0.0021s\n",
      "Epoch: 3101 loss: 17615.77734375 time: 0.0020s\n",
      "Epoch: 3201 loss: 17556.54101562 time: 0.0040s\n",
      "Epoch: 3301 loss: 17552.91015625 time: 0.0000s\n",
      "Epoch: 3401 loss: 17552.91015625 time: 0.0000s\n",
      "Epoch: 3501 loss: 17492.51953125 time: 0.0040s\n",
      "Epoch: 3601 loss: 17445.38085938 time: 0.0000s\n",
      "Epoch: 3701 loss: 17445.38085938 time: 0.0026s\n",
      "Epoch: 3801 loss: 17445.38085938 time: 0.0000s\n",
      "Epoch: 3901 loss: 17445.38085938 time: 0.0040s\n",
      "Epoch: 4001 loss: 17445.38085938 time: 0.0058s\n",
      "Epoch: 4101 loss: 17445.38085938 time: 0.0020s\n",
      "Epoch: 4201 loss: 17445.38085938 time: 0.0000s\n",
      "Epoch: 4301 loss: 17445.38085938 time: 0.0023s\n",
      "Epoch: 4401 loss: 17385.02148438 time: 0.0040s\n",
      "Epoch: 4501 loss: 17345.02539062 time: 0.0040s\n",
      "Epoch: 4601 loss: 17317.37304688 time: 0.0020s\n",
      "Epoch: 4701 loss: 17292.02148438 time: 0.0040s\n",
      "Epoch: 4801 loss: 17264.45312500 time: 0.0040s\n",
      "Epoch: 4901 loss: 17241.26757812 time: 0.0048s\n",
      "Optimization Finished!\n",
      "Total time elapsed: 10.9731s\n"
     ]
    }
   ],
   "source": [
    "dim=1\n",
    "adj_norm,mu,losses = GraphNeuralNet(adj=adj,dim=dim)"
   ]
  },
  {
   "cell_type": "code",
   "execution_count": 9,
   "metadata": {},
   "outputs": [
    {
     "name": "stdout",
     "output_type": "stream",
     "text": [
      "NMI Score : 0.20187715136671114\n"
     ]
    },
    {
     "data": {
      "image/png": "[encoded data removed]",
      "text/plain": [
       "<Figure size 432x288 with 1 Axes>"
      ]
     },
     "metadata": {
      "needs_background": "light"
     },
     "output_type": "display_data"
    }
   ],
   "source": [
    "plt.plot(losses)\n",
    "nmi = nmi_score(adj_norm[0],mu.reshape(adj_norm.shape[1:]).detach())\n",
    "print(\"NMI Score : {}\".format(nmi))"
   ]
  },
  {
   "cell_type": "code",
   "execution_count": 10,
   "metadata": {},
   "outputs": [
    {
     "name": "stdout",
     "output_type": "stream",
     "text": [
      "Epoch: 0001 loss: 129507999744.00000000 time: 0.0040s\n",
      "Epoch: 0101 loss: 42043.94531250 time: 0.0000s\n",
      "Epoch: 0201 loss: 24714.60351562 time: 0.0040s\n",
      "Epoch: 0301 loss: 23336.83593750 time: 0.0037s\n",
      "Epoch: 0401 loss: 21189.21093750 time: 0.0040s\n",
      "Epoch: 0501 loss: 20687.53710938 time: 0.0040s\n",
      "Epoch: 0601 loss: 19842.03320312 time: 0.0000s\n",
      "Epoch: 0701 loss: 19280.07617188 time: 0.0000s\n",
      "Epoch: 0801 loss: 19280.07617188 time: 0.0000s\n",
      "Epoch: 0901 loss: 19280.07617188 time: 0.0015s\n",
      "Epoch: 1001 loss: 18920.76953125 time: 0.0000s\n",
      "Epoch: 1101 loss: 18539.21289062 time: 0.0000s\n",
      "Epoch: 1201 loss: 18307.49023438 time: 0.0000s\n",
      "Epoch: 1301 loss: 18165.19921875 time: 0.0024s\n",
      "Epoch: 1401 loss: 18118.56250000 time: 0.0000s\n",
      "Epoch: 1501 loss: 18118.56250000 time: 0.0040s\n",
      "Epoch: 1601 loss: 18118.56250000 time: 0.0040s\n",
      "Epoch: 1701 loss: 18118.56250000 time: 0.0030s\n",
      "Epoch: 1801 loss: 18061.82812500 time: 0.0000s\n",
      "Epoch: 1901 loss: 17851.00781250 time: 0.0045s\n",
      "Epoch: 2001 loss: 17671.85546875 time: 0.0040s\n",
      "Epoch: 2101 loss: 17620.32031250 time: 0.0040s\n",
      "Epoch: 2201 loss: 17569.72851562 time: 0.0040s\n",
      "Epoch: 2301 loss: 17502.00976562 time: 0.0048s\n",
      "Epoch: 2401 loss: 17485.55664062 time: 0.0040s\n",
      "Epoch: 2501 loss: 17485.55664062 time: 0.0000s\n",
      "Epoch: 2601 loss: 17485.55664062 time: 0.0000s\n",
      "Epoch: 2701 loss: 17485.55664062 time: 0.0040s\n",
      "Epoch: 2801 loss: 17485.55664062 time: 0.0000s\n",
      "Epoch: 2901 loss: 17485.55664062 time: 0.0040s\n",
      "Epoch: 3001 loss: 17379.44531250 time: 0.0048s\n",
      "Epoch: 3101 loss: 17284.45703125 time: 0.0040s\n",
      "Epoch: 3201 loss: 17284.45703125 time: 0.0000s\n",
      "Epoch: 3301 loss: 17284.45703125 time: 0.0051s\n",
      "Epoch: 3401 loss: 17284.45703125 time: 0.0040s\n",
      "Epoch: 3501 loss: 17284.45703125 time: 0.0000s\n",
      "Epoch: 3601 loss: 17284.45703125 time: 0.0000s\n",
      "Epoch: 3701 loss: 17279.42773438 time: 0.0040s\n",
      "Epoch: 3801 loss: 17254.31250000 time: 0.0048s\n",
      "Epoch: 3901 loss: 17157.95312500 time: 0.0000s\n",
      "Epoch: 4001 loss: 17157.95312500 time: 0.0040s\n",
      "Epoch: 4101 loss: 17157.95312500 time: 0.0040s\n",
      "Epoch: 4201 loss: 17157.95312500 time: 0.0000s\n",
      "Epoch: 4301 loss: 17157.95312500 time: 0.0018s\n",
      "Epoch: 4401 loss: 17157.95312500 time: 0.0040s\n",
      "Epoch: 4501 loss: 17156.30468750 time: 0.0040s\n",
      "Epoch: 4601 loss: 17156.30468750 time: 0.0030s\n",
      "Epoch: 4701 loss: 17156.30468750 time: 0.0051s\n",
      "Epoch: 4801 loss: 17156.30468750 time: 0.0000s\n",
      "Epoch: 4901 loss: 17156.30468750 time: 0.0000s\n",
      "Optimization Finished!\n",
      "Total time elapsed: 12.8957s\n"
     ]
    }
   ],
   "source": [
    "dim=2\n",
    "adj_norm,mu,losses = GraphNeuralNet(adj=adj,dim=dim)"
   ]
  },
  {
   "cell_type": "code",
   "execution_count": 11,
   "metadata": {},
   "outputs": [
    {
     "name": "stdout",
     "output_type": "stream",
     "text": [
      "NMI Score : 0.33754392323381377\n"
     ]
    },
    {
     "data": {
      "image/png": "[encoded data removed]",
      "text/plain": [
       "<Figure size 432x288 with 1 Axes>"
      ]
     },
     "metadata": {
      "needs_background": "light"
     },
     "output_type": "display_data"
    }
   ],
   "source": [
    "plt.plot(losses)\n",
    "nmi = nmi_score(adj_norm[0],mu.reshape(adj_norm.shape[1:]).detach())\n",
    "print(\"NMI Score : {}\".format(nmi))"
   ]
  },
  {
   "cell_type": "code",
   "execution_count": 12,
   "metadata": {},
   "outputs": [
    {
     "name": "stdout",
     "output_type": "stream",
     "text": [
      "Epoch: 0001 loss: 129507713024.00000000 time: 0.0040s\n",
      "Epoch: 0101 loss: 43340.46093750 time: 0.0040s\n",
      "Epoch: 0201 loss: 27259.90039062 time: 0.0033s\n",
      "Epoch: 0301 loss: 24457.47070312 time: 0.0000s\n",
      "Epoch: 0401 loss: 22747.47460938 time: 0.0000s\n",
      "Epoch: 0501 loss: 20764.87500000 time: 0.0040s\n",
      "Epoch: 0601 loss: 20764.87500000 time: 0.0040s\n",
      "Epoch: 0701 loss: 19979.68945312 time: 0.0000s\n",
      "Epoch: 0801 loss: 19584.89648438 time: 0.0020s\n",
      "Epoch: 0901 loss: 19286.89648438 time: 0.0040s\n",
      "Epoch: 1001 loss: 19023.30078125 time: 0.0040s\n",
      "Epoch: 1101 loss: 18815.69726562 time: 0.0000s\n",
      "Epoch: 1201 loss: 18610.99804688 time: 0.0040s\n",
      "Epoch: 1301 loss: 18416.07226562 time: 0.0026s\n",
      "Epoch: 1401 loss: 18167.96093750 time: 0.0000s\n",
      "Epoch: 1501 loss: 17944.69335938 time: 0.0051s\n",
      "Epoch: 1601 loss: 17768.84960938 time: 0.0040s\n",
      "Epoch: 1701 loss: 17567.62890625 time: 0.0040s\n",
      "Epoch: 1801 loss: 16764.00781250 time: 0.0041s\n",
      "Epoch: 1901 loss: 10145.70410156 time: 0.0040s\n",
      "Epoch: 2001 loss: 8839.02832031 time: 0.0040s\n",
      "Epoch: 2101 loss: 7815.50244141 time: 0.0040s\n",
      "Epoch: 2201 loss: 7815.50244141 time: 0.0040s\n",
      "Epoch: 2301 loss: 7815.50244141 time: 0.0040s\n",
      "Epoch: 2401 loss: 7745.78369141 time: 0.0000s\n",
      "Epoch: 2501 loss: 7246.50878906 time: 0.0050s\n",
      "Epoch: 2601 loss: 7246.50878906 time: 0.0056s\n",
      "Epoch: 2701 loss: 7049.42822266 time: 0.0040s\n",
      "Epoch: 2801 loss: 7049.42822266 time: 0.0040s\n",
      "Epoch: 2901 loss: 7049.42822266 time: 0.0000s\n",
      "Epoch: 3001 loss: 6814.79980469 time: 0.0042s\n",
      "Epoch: 3101 loss: 6814.79980469 time: 0.0040s\n",
      "Epoch: 3201 loss: 6814.79980469 time: 0.0000s\n",
      "Epoch: 3301 loss: 6605.31298828 time: 0.0040s\n",
      "Epoch: 3401 loss: 6496.06298828 time: 0.0040s\n",
      "Epoch: 3501 loss: 6427.96240234 time: 0.0040s\n",
      "Epoch: 3601 loss: 6296.03417969 time: 0.0040s\n",
      "Epoch: 3701 loss: 6234.09179688 time: 0.0040s\n",
      "Epoch: 3801 loss: 6182.73828125 time: 0.0040s\n",
      "Epoch: 3901 loss: 6182.73828125 time: 0.0047s\n",
      "Epoch: 4001 loss: 6031.30517578 time: 0.0000s\n",
      "Epoch: 4101 loss: 5986.61621094 time: 0.0040s\n",
      "Epoch: 4201 loss: 5951.82031250 time: 0.0040s\n",
      "Epoch: 4301 loss: 5921.86328125 time: 0.0008s\n",
      "Epoch: 4401 loss: 5898.10205078 time: 0.0040s\n",
      "Epoch: 4501 loss: 5879.06054688 time: 0.0040s\n",
      "Epoch: 4601 loss: 5862.29296875 time: 0.0040s\n",
      "Epoch: 4701 loss: 5839.50292969 time: 0.0080s\n",
      "Epoch: 4801 loss: 5829.57763672 time: 0.0000s\n",
      "Epoch: 4901 loss: 5797.95117188 time: 0.0040s\n",
      "Optimization Finished!\n",
      "Total time elapsed: 17.6375s\n"
     ]
    }
   ],
   "source": [
    "dim=3\n",
    "adj_norm,mu,losses = GraphNeuralNet(adj=adj,dim=dim)"
   ]
  },
  {
   "cell_type": "code",
   "execution_count": 13,
   "metadata": {},
   "outputs": [
    {
     "name": "stdout",
     "output_type": "stream",
     "text": [
      "NMI Score : 0.26458097036905476\n"
     ]
    },
    {
     "data": {
      "image/png": "[encoded data removed]",
      "text/plain": [
       "<Figure size 432x288 with 1 Axes>"
      ]
     },
     "metadata": {
      "needs_background": "light"
     },
     "output_type": "display_data"
    }
   ],
   "source": [
    "plt.plot(losses)\n",
    "nmi = nmi_score(adj_norm[0],mu.reshape(adj_norm.shape[1:]).detach())\n",
    "print(\"NMI Score : {}\".format(nmi))"
   ]
  },
  {
   "cell_type": "code",
   "execution_count": 14,
   "metadata": {},
   "outputs": [
    {
     "name": "stdout",
     "output_type": "stream",
     "text": [
      "Epoch: 0001 loss: 129507205120.00000000 time: 0.0000s\n",
      "Epoch: 0101 loss: 28800.83203125 time: 0.0000s\n",
      "Epoch: 0201 loss: 25629.43945312 time: 0.0102s\n",
      "Epoch: 0301 loss: 21914.52539062 time: 0.0042s\n",
      "Epoch: 0401 loss: 19664.54296875 time: 0.0000s\n",
      "Epoch: 0501 loss: 19664.54296875 time: 0.0065s\n",
      "Epoch: 0601 loss: 19664.54296875 time: 0.0041s\n",
      "Epoch: 0701 loss: 19492.15234375 time: 0.0010s\n",
      "Epoch: 0801 loss: 18858.30273438 time: 0.0080s\n",
      "Epoch: 0901 loss: 18630.50000000 time: 0.0051s\n",
      "Epoch: 1001 loss: 17798.53515625 time: 0.0050s\n",
      "Epoch: 1101 loss: 17798.53515625 time: 0.0030s\n",
      "Epoch: 1201 loss: 17798.53515625 time: 0.0040s\n",
      "Epoch: 1301 loss: 17798.53515625 time: 0.0040s\n",
      "Epoch: 1401 loss: 17525.82617188 time: 0.0040s\n",
      "Epoch: 1501 loss: 17525.82617188 time: 0.0050s\n",
      "Epoch: 1601 loss: 17525.82617188 time: 0.0030s\n",
      "Epoch: 1701 loss: 17525.82617188 time: 0.0060s\n",
      "Epoch: 1801 loss: 17525.82617188 time: 0.0030s\n",
      "Epoch: 1901 loss: 17525.82617188 time: 0.0050s\n",
      "Epoch: 2001 loss: 17486.82226562 time: 0.0040s\n",
      "Epoch: 2101 loss: 17486.82226562 time: 0.0050s\n",
      "Epoch: 2201 loss: 17486.82226562 time: 0.0030s\n",
      "Epoch: 2301 loss: 17446.37500000 time: 0.0040s\n",
      "Epoch: 2401 loss: 17325.81835938 time: 0.0030s\n",
      "Epoch: 2501 loss: 17325.81835938 time: 0.0040s\n",
      "Epoch: 2601 loss: 17325.81835938 time: 0.0030s\n",
      "Epoch: 2701 loss: 17325.81835938 time: 0.0050s\n",
      "Epoch: 2801 loss: 17237.19140625 time: 0.0050s\n",
      "Epoch: 2901 loss: 17237.19140625 time: 0.0040s\n",
      "Epoch: 3001 loss: 17237.19140625 time: 0.0080s\n",
      "Epoch: 3101 loss: 17237.19140625 time: 0.0040s\n",
      "Epoch: 3201 loss: 17237.19140625 time: 0.0000s\n",
      "Epoch: 3301 loss: 17237.19140625 time: 0.0040s\n",
      "Epoch: 3401 loss: 17101.21484375 time: 0.0040s\n",
      "Epoch: 3501 loss: 17101.21484375 time: 0.0040s\n",
      "Epoch: 3601 loss: 17101.21484375 time: 0.0048s\n",
      "Epoch: 3701 loss: 17089.77539062 time: 0.0040s\n",
      "Epoch: 3801 loss: 17089.77539062 time: 0.0060s\n",
      "Epoch: 3901 loss: 17087.28710938 time: 0.0040s\n",
      "Epoch: 4001 loss: 17087.28710938 time: 0.0080s\n",
      "Epoch: 4101 loss: 17059.32226562 time: 0.0040s\n",
      "Epoch: 4201 loss: 17059.32226562 time: 0.0020s\n",
      "Epoch: 4301 loss: 17059.32226562 time: 0.0080s\n",
      "Epoch: 4401 loss: 17059.32226562 time: 0.0031s\n",
      "Epoch: 4501 loss: 17059.32226562 time: 0.0040s\n",
      "Epoch: 4601 loss: 17059.32226562 time: 0.0040s\n",
      "Epoch: 4701 loss: 17059.32226562 time: 0.0080s\n",
      "Epoch: 4801 loss: 16620.90234375 time: 0.0032s\n",
      "Epoch: 4901 loss: 16620.90234375 time: 0.0040s\n",
      "Optimization Finished!\n",
      "Total time elapsed: 20.3605s\n"
     ]
    }
   ],
   "source": [
    "dim=4\n",
    "adj_norm,mu,losses = GraphNeuralNet(adj=adj,dim=dim)"
   ]
  },
  {
   "cell_type": "code",
   "execution_count": 15,
   "metadata": {},
   "outputs": [
    {
     "name": "stdout",
     "output_type": "stream",
     "text": [
      "NMI Score : 0.07229921291481219\n"
     ]
    },
    {
     "data": {
      "image/png": "[encoded data removed]",
      "text/plain": [
       "<Figure size 432x288 with 1 Axes>"
      ]
     },
     "metadata": {
      "needs_background": "light"
     },
     "output_type": "display_data"
    }
   ],
   "source": [
    "plt.plot(losses)\n",
    "nmi = nmi_score(adj_norm[0],mu.reshape(adj_norm.shape[1:]).detach())\n",
    "print(\"NMI Score : {}\".format(nmi))"
   ]
  }
 ],
 "metadata": {
  "kernelspec": {
   "display_name": "Python 3",
   "language": "python",
   "name": "python3"
  },
  "language_info": {
   "codemirror_mode": {
    "name": "ipython",
    "version": 3
   },
   "file_extension": ".py",
   "mimetype": "text/x-python",
   "name": "python",
   "nbconvert_exporter": "python",
   "pygments_lexer": "ipython3",
   "version": "3.8.7"
  }
 },
 "nbformat": 4,
 "nbformat_minor": 4
}
