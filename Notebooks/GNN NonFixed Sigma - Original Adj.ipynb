{
 "cells": [
  {
   "cell_type": "code",
   "execution_count": 1,
   "metadata": {},
   "outputs": [],
   "source": [
    "from __future__ import division\n",
    "from __future__ import print_function\n",
    "\n",
    "import time\n",
    "import argparse\n",
    "import numpy as np\n",
    "\n",
    "import torch\n",
    "import torch.optim as optim\n",
    "\n",
    "from utils import load_data,normalize,toy_data,norm_embed,nmi_score\n",
    "\n",
    "import matplotlib.pyplot as plt "
   ]
  },
  {
   "cell_type": "code",
   "execution_count": 2,
   "metadata": {},
   "outputs": [],
   "source": [
    "import torch.nn as nn\n",
    "import torch.nn.functional as F\n",
    "from layers import GraphConvolution, InnerProduct\n",
    "from utils import norm_embed\n",
    "import torch"
   ]
  },
  {
   "cell_type": "code",
   "execution_count": 3,
   "metadata": {},
   "outputs": [],
   "source": [
    "class GNN(nn.Module):\n",
    "    \n",
    "    def __init__(self, batch_size, nfeat, nhid, ndim):\n",
    "        super(GNN, self).__init__()\n",
    "\n",
    "        self.gc1 = GraphConvolution(batch_size, nfeat, nhid)\n",
    "        self.embeddings = GraphConvolution(batch_size, nhid, 4*ndim)\n",
    "        self.reconstructions = InnerProduct(2*ndim)\n",
    "\n",
    "    def forward(self, x, adj):\n",
    "        x = F.relu(self.gc1(x, adj))\n",
    "        x = self.embeddings(x, adj)\n",
    "        x = norm_embed(x)\n",
    "        lr1, lr2 = torch.chunk(x, chunks=2, dim=2)\n",
    "        mu = F.relu(self.reconstructions(lr1))\n",
    "        sigma = F.relu(self.reconstructions(lr2))\n",
    "        return mu,sigma\n",
    "    "
   ]
  },
  {
   "cell_type": "code",
   "execution_count": 4,
   "metadata": {},
   "outputs": [],
   "source": [
    "np.set_printoptions(suppress=True)\n",
    "torch.set_printoptions(sci_mode=False,precision=8)"
   ]
  },
  {
   "cell_type": "code",
   "execution_count": 5,
   "metadata": {},
   "outputs": [],
   "source": [
    "# Training settings\n",
    "parser = argparse.ArgumentParser()\n",
    "parser.add_argument('--no-cuda', action='store_true', default=False,\n",
    "                    help='Disables CUDA training.')\n",
    "parser.add_argument('--fastmode', action='store_true', default=False,\n",
    "                    help='Validate during training pass.')\n",
    "parser.add_argument('--seed', type=int, default=426, help='Random seed.')\n",
    "parser.add_argument('--epochs', type=int, default=5000,\n",
    "                    help='Number of epochs to train.')\n",
    "parser.add_argument('--lr', type=float, default=0.1,\n",
    "                    help='Initial learning rate.')\n",
    "parser.add_argument('--weight_decay', type=float, default=10e-8,\n",
    "                    help='Weight decay (L2 loss on parameters).')\n",
    "parser.add_argument('--hidden', type=int, default=16,\n",
    "                    help='Number of hidden units.')\n",
    "parser.add_argument('--ndim', type=int, default=2,\n",
    "                    help='Embeddings dimension.')\n",
    "\n",
    "args = parser.parse_args(args=[])\n",
    "args.cuda = not args.no_cuda and torch.cuda.is_available()"
   ]
  },
  {
   "cell_type": "code",
   "execution_count": 6,
   "metadata": {},
   "outputs": [],
   "source": [
    "if 1:\n",
    "    # Taxi Dataset Graph\n",
    "    adj = load_data()\n",
    "    #adj = load_data(daily=True)\n",
    "else:\n",
    "    #Toy Example Graph\n",
    "    adj = toy_data()"
   ]
  },
  {
   "cell_type": "code",
   "execution_count": 7,
   "metadata": {},
   "outputs": [],
   "source": [
    "def GraphNeuralNet(adj,dim):\n",
    "    \n",
    "    # Set the random seed\n",
    "    np.random.seed(args.seed)\n",
    "    torch.manual_seed(args.seed)\n",
    "    if args.cuda:\n",
    "        torch.cuda.manual_seed(args.seed)\n",
    "        \n",
    "    args.ndim = dim\n",
    "    \n",
    "    adj_norm = normalize(adj)\n",
    "\n",
    "    adj = torch.FloatTensor(np.array(adj))\n",
    "    adj_norm = torch.FloatTensor(np.array(adj_norm))\n",
    "\n",
    "    # Model and optimizer\n",
    "    model = GNN(batch_size=adj_norm.shape[0],\n",
    "                nfeat=adj_norm.shape[1],\n",
    "                nhid=args.hidden,\n",
    "                ndim=args.ndim)\n",
    "\n",
    "    activation = {}\n",
    "    def get_activation(name):\n",
    "        def hook(model, input, output):\n",
    "            activation[name] = output.detach()\n",
    "        return hook\n",
    "\n",
    "    model.embeddings.register_forward_hook(get_activation('embeddings'))\n",
    "\n",
    "\n",
    "    optimizer = optim.Adam(model.parameters(),\n",
    "                           lr=args.lr, weight_decay=args.weight_decay)\n",
    "\n",
    "\n",
    "\n",
    "    features = torch.FloatTensor(torch.eye(adj.shape[1]))\n",
    "    features = features.reshape((1,adj.shape[1],adj.shape[1]))\n",
    "    features = features.repeat(adj.shape[0], 1, 1)\n",
    "\n",
    "    if args.cuda:\n",
    "        model.cuda()\n",
    "        features = features.cuda()\n",
    "        adj = adj.cuda()\n",
    "        adj_norm = adj_norm.cuda()\n",
    "\n",
    "\n",
    "    # Train model\n",
    "    t_total = time.time()\n",
    "    A2norm = (adj ** 2).mean()\n",
    "    #A2norm = (adj_norm ** 2).view(adj_norm.shape[0],-1).mean(axis=1)\n",
    "    \n",
    "    losses = []\n",
    "\n",
    "    for epoch in range(args.epochs):\n",
    "\n",
    "        t = time.time()\n",
    "        model.train()\n",
    "        optimizer.zero_grad()\n",
    "        mu,sigma = model(features, adj_norm)\n",
    "\n",
    "        # loss function\n",
    "        criterion = torch.nn.GaussianNLLLoss()\n",
    "        loss = criterion(torch.flatten(adj), torch.flatten(mu), torch.flatten(sigma)) #/ A2norm\n",
    "        loss.backward()\n",
    "        optimizer.step()\n",
    "\n",
    "        if epoch == 0:\n",
    "            best_loss = loss\n",
    "        else:\n",
    "            if loss < best_loss:\n",
    "                best_loss = loss\n",
    "\n",
    "        if epoch % 100 == 0:\n",
    "            print('Epoch: {:04d}'.format(epoch + 1),\n",
    "                  'loss: {:.8f}'.format(best_loss.item()),\n",
    "                  'time: {:.4f}s'.format(time.time() - t))\n",
    "        \n",
    "        losses.append(loss)\n",
    "\n",
    "    print(\"Optimization Finished!\")\n",
    "    print(\"Total time elapsed: {:.4f}s\".format(time.time() - t_total))\n",
    "    \n",
    "    return adj,mu,losses\n"
   ]
  },
  {
   "cell_type": "code",
   "execution_count": 8,
   "metadata": {},
   "outputs": [
    {
     "name": "stdout",
     "output_type": "stream",
     "text": [
      "Epoch: 0001 loss: 1110162744016896.00000000 time: 0.0090s\n",
      "Epoch: 0101 loss: 86492344.00000000 time: 0.0000s\n",
      "Epoch: 0201 loss: 86387416.00000000 time: 0.0000s\n",
      "Epoch: 0301 loss: 86269112.00000000 time: 0.0081s\n",
      "Epoch: 0401 loss: 86125768.00000000 time: 0.0000s\n",
      "Epoch: 0501 loss: 85959416.00000000 time: 0.0000s\n",
      "Epoch: 0601 loss: 85771456.00000000 time: 0.0000s\n",
      "Epoch: 0701 loss: 85562456.00000000 time: 0.0081s\n",
      "Epoch: 0801 loss: 85332976.00000000 time: 0.0000s\n",
      "Epoch: 0901 loss: 85083344.00000000 time: 0.0100s\n",
      "Epoch: 1001 loss: 84813608.00000000 time: 0.0021s\n",
      "Epoch: 1101 loss: 84523872.00000000 time: 0.0021s\n",
      "Epoch: 1201 loss: 84214080.00000000 time: 0.0091s\n",
      "Epoch: 1301 loss: 83884160.00000000 time: 0.0000s\n",
      "Epoch: 1401 loss: 83534080.00000000 time: 0.0081s\n",
      "Epoch: 1501 loss: 83163456.00000000 time: 0.0081s\n",
      "Epoch: 1601 loss: 82772176.00000000 time: 0.0000s\n",
      "Epoch: 1701 loss: 82360168.00000000 time: 0.0000s\n",
      "Epoch: 1801 loss: 81927136.00000000 time: 0.0000s\n",
      "Epoch: 1901 loss: 81472752.00000000 time: 0.0081s\n",
      "Epoch: 2001 loss: 80996904.00000000 time: 0.0000s\n",
      "Epoch: 2101 loss: 80499296.00000000 time: 0.0000s\n",
      "Epoch: 2201 loss: 79979608.00000000 time: 0.0080s\n",
      "Epoch: 2301 loss: 79437640.00000000 time: 0.0000s\n",
      "Epoch: 2401 loss: 78873160.00000000 time: 0.0101s\n",
      "Epoch: 2501 loss: 78285904.00000000 time: 0.0000s\n",
      "Epoch: 2601 loss: 77675704.00000000 time: 0.0000s\n",
      "Epoch: 2701 loss: 77042288.00000000 time: 0.0080s\n",
      "Epoch: 2801 loss: 76385488.00000000 time: 0.0020s\n",
      "Epoch: 2901 loss: 75705080.00000000 time: 0.0000s\n",
      "Epoch: 3001 loss: 75000872.00000000 time: 0.0000s\n",
      "Epoch: 3101 loss: 74272744.00000000 time: 0.0000s\n",
      "Epoch: 3201 loss: 73520584.00000000 time: 0.0000s\n",
      "Epoch: 3301 loss: 72744240.00000000 time: 0.0000s\n",
      "Epoch: 3401 loss: 71943664.00000000 time: 0.0000s\n",
      "Epoch: 3501 loss: 71118744.00000000 time: 0.0000s\n",
      "Epoch: 3601 loss: 70269448.00000000 time: 0.0000s\n",
      "Epoch: 3701 loss: 69395776.00000000 time: 0.0010s\n",
      "Epoch: 3801 loss: 68497688.00000000 time: 0.0100s\n",
      "Epoch: 3901 loss: 67575240.00000000 time: 0.0040s\n",
      "Epoch: 4001 loss: 66628452.00000000 time: 0.0040s\n",
      "Epoch: 4101 loss: 65657416.00000000 time: 0.0040s\n",
      "Epoch: 4201 loss: 64662236.00000000 time: 0.0020s\n",
      "Epoch: 4301 loss: 63643044.00000000 time: 0.0040s\n",
      "Epoch: 4401 loss: 62599896.00000000 time: 0.0040s\n",
      "Epoch: 4501 loss: 61533024.00000000 time: 0.0040s\n",
      "Epoch: 4601 loss: 60442584.00000000 time: 0.0040s\n",
      "Epoch: 4701 loss: 59328700.00000000 time: 0.0000s\n",
      "Epoch: 4801 loss: 58191552.00000000 time: 0.0000s\n",
      "Epoch: 4901 loss: 57031328.00000000 time: 0.0030s\n",
      "Optimization Finished!\n",
      "Total time elapsed: 11.1504s\n"
     ]
    }
   ],
   "source": [
    "dim=1\n",
    "adj_norm,mu,losses = GraphNeuralNet(adj=adj,dim=dim)"
   ]
  },
  {
   "cell_type": "code",
   "execution_count": 9,
   "metadata": {},
   "outputs": [
    {
     "name": "stdout",
     "output_type": "stream",
     "text": [
      "NMI Score : 0.0\n"
     ]
    },
    {
     "data": {
      "image/png": "[encoded data removed]",
      "text/plain": [
       "<Figure size 432x288 with 1 Axes>"
      ]
     },
     "metadata": {
      "needs_background": "light"
     },
     "output_type": "display_data"
    }
   ],
   "source": [
    "plt.plot(losses)\n",
    "nmi = nmi_score(adj_norm[0],mu.reshape(adj_norm.shape[1:]).detach())\n",
    "print(\"NMI Score : {}\".format(nmi))"
   ]
  },
  {
   "cell_type": "code",
   "execution_count": 10,
   "metadata": {},
   "outputs": [
    {
     "name": "stdout",
     "output_type": "stream",
     "text": [
      "Epoch: 0001 loss: 1330363032928256.00000000 time: 0.0015s\n",
      "Epoch: 0101 loss: 344793760.00000000 time: 0.0040s\n",
      "Epoch: 0201 loss: 276464160.00000000 time: 0.0040s\n",
      "Epoch: 0301 loss: 242551088.00000000 time: 0.0040s\n",
      "Epoch: 0401 loss: 220292672.00000000 time: 0.0040s\n",
      "Epoch: 0501 loss: 203879232.00000000 time: 0.0040s\n",
      "Epoch: 0601 loss: 191004192.00000000 time: 0.0020s\n",
      "Epoch: 0701 loss: 180447728.00000000 time: 0.0040s\n",
      "Epoch: 0801 loss: 171527264.00000000 time: 0.0040s\n",
      "Epoch: 0901 loss: 163820400.00000000 time: 0.0045s\n",
      "Epoch: 1001 loss: 157043040.00000000 time: 0.0040s\n",
      "Epoch: 1101 loss: 151000656.00000000 time: 0.0040s\n",
      "Epoch: 1201 loss: 145549648.00000000 time: 0.0000s\n",
      "Epoch: 1301 loss: 140585248.00000000 time: 0.0040s\n",
      "Epoch: 1401 loss: 136026064.00000000 time: 0.0021s\n",
      "Epoch: 1501 loss: 131808488.00000000 time: 0.0021s\n",
      "Epoch: 1601 loss: 127883296.00000000 time: 0.0000s\n",
      "Epoch: 1701 loss: 124209576.00000000 time: 0.0020s\n",
      "Epoch: 1801 loss: 120754552.00000000 time: 0.0023s\n",
      "Epoch: 1901 loss: 117491128.00000000 time: 0.0000s\n",
      "Epoch: 2001 loss: 114394688.00000000 time: 0.0040s\n",
      "Epoch: 2101 loss: 111447080.00000000 time: 0.0040s\n",
      "Epoch: 2201 loss: 108632480.00000000 time: 0.0040s\n",
      "Epoch: 2301 loss: 105935192.00000000 time: 0.0000s\n",
      "Epoch: 2401 loss: 103343248.00000000 time: 0.0040s\n",
      "Epoch: 2501 loss: 100845432.00000000 time: 0.0059s\n",
      "Epoch: 2601 loss: 98431640.00000000 time: 0.0030s\n",
      "Epoch: 2701 loss: 96093968.00000000 time: 0.0020s\n",
      "Epoch: 2801 loss: 93824984.00000000 time: 0.0030s\n",
      "Epoch: 2901 loss: 91617408.00000000 time: 0.0030s\n",
      "Epoch: 3001 loss: 89465744.00000000 time: 0.0020s\n",
      "Epoch: 3101 loss: 87363720.00000000 time: 0.0020s\n",
      "Epoch: 3201 loss: 85306648.00000000 time: 0.0020s\n",
      "Epoch: 3301 loss: 83290096.00000000 time: 0.0030s\n",
      "Epoch: 3401 loss: 81309696.00000000 time: 0.0020s\n",
      "Epoch: 3501 loss: 79360768.00000000 time: 0.0020s\n",
      "Epoch: 3601 loss: 77440200.00000000 time: 0.0020s\n",
      "Epoch: 3701 loss: 75543792.00000000 time: 0.0020s\n",
      "Epoch: 3801 loss: 73668344.00000000 time: 0.0020s\n",
      "Epoch: 3901 loss: 71810528.00000000 time: 0.0030s\n",
      "Epoch: 4001 loss: 69967160.00000000 time: 0.0030s\n",
      "Epoch: 4101 loss: 68134552.00000000 time: 0.0040s\n",
      "Epoch: 4201 loss: 66309872.00000000 time: 0.0040s\n",
      "Epoch: 4301 loss: 64490232.00000000 time: 0.0030s\n",
      "Epoch: 4401 loss: 62672068.00000000 time: 0.0040s\n",
      "Epoch: 4501 loss: 60852196.00000000 time: 0.0000s\n",
      "Epoch: 4601 loss: 59027256.00000000 time: 0.0040s\n",
      "Epoch: 4701 loss: 57193500.00000000 time: 0.0041s\n",
      "Epoch: 4801 loss: 55347120.00000000 time: 0.0000s\n",
      "Epoch: 4901 loss: 53484268.00000000 time: 0.0041s\n",
      "Optimization Finished!\n",
      "Total time elapsed: 13.1238s\n"
     ]
    }
   ],
   "source": [
    "dim=2\n",
    "adj_norm,mu,losses = GraphNeuralNet(adj=adj,dim=dim)"
   ]
  },
  {
   "cell_type": "code",
   "execution_count": 11,
   "metadata": {},
   "outputs": [
    {
     "name": "stdout",
     "output_type": "stream",
     "text": [
      "NMI Score : 0.19293191525221007\n"
     ]
    },
    {
     "data": {
      "image/png": "[encoded data removed]",
      "text/plain": [
       "<Figure size 432x288 with 1 Axes>"
      ]
     },
     "metadata": {
      "needs_background": "light"
     },
     "output_type": "display_data"
    }
   ],
   "source": [
    "plt.plot(losses)\n",
    "nmi = nmi_score(adj_norm[0],mu.reshape(adj_norm.shape[1:]).detach())\n",
    "print(\"NMI Score : {}\".format(nmi))"
   ]
  },
  {
   "cell_type": "code",
   "execution_count": 12,
   "metadata": {},
   "outputs": [
    {
     "name": "stdout",
     "output_type": "stream",
     "text": [
      "Epoch: 0001 loss: 1068017303683072.00000000 time: 0.0040s\n",
      "Epoch: 0101 loss: 46704820.00000000 time: 0.0040s\n",
      "Epoch: 0201 loss: 46690508.00000000 time: 0.0000s\n",
      "Epoch: 0301 loss: 46682764.00000000 time: 0.0075s\n",
      "Epoch: 0401 loss: 46673400.00000000 time: 0.0040s\n",
      "Epoch: 0501 loss: 46662484.00000000 time: 0.0050s\n",
      "Epoch: 0601 loss: 46650016.00000000 time: 0.0040s\n",
      "Epoch: 0701 loss: 46635912.00000000 time: 0.0040s\n",
      "Epoch: 0801 loss: 46620340.00000000 time: 0.0040s\n",
      "Epoch: 0901 loss: 46603360.00000000 time: 0.0040s\n",
      "Epoch: 1001 loss: 46584884.00000000 time: 0.0040s\n",
      "Epoch: 1101 loss: 46564928.00000000 time: 0.0040s\n",
      "Epoch: 1201 loss: 46543444.00000000 time: 0.0046s\n",
      "Epoch: 1301 loss: 46520340.00000000 time: 0.0080s\n",
      "Epoch: 1401 loss: 46495592.00000000 time: 0.0040s\n",
      "Epoch: 1501 loss: 46469224.00000000 time: 0.0040s\n",
      "Epoch: 1601 loss: 46441160.00000000 time: 0.0064s\n",
      "Epoch: 1701 loss: 46411332.00000000 time: 0.0040s\n",
      "Epoch: 1801 loss: 46379752.00000000 time: 0.0040s\n",
      "Epoch: 1901 loss: 46346160.00000000 time: 0.0040s\n",
      "Epoch: 2001 loss: 46310536.00000000 time: 0.0040s\n",
      "Epoch: 2101 loss: 46272856.00000000 time: 0.0035s\n",
      "Epoch: 2201 loss: 46233012.00000000 time: 0.0049s\n",
      "Epoch: 2301 loss: 46190792.00000000 time: 0.0040s\n",
      "Epoch: 2401 loss: 46146204.00000000 time: 0.0009s\n",
      "Epoch: 2501 loss: 46099308.00000000 time: 0.0040s\n",
      "Epoch: 2601 loss: 46049824.00000000 time: 0.0040s\n",
      "Epoch: 2701 loss: 45997688.00000000 time: 0.0040s\n",
      "Epoch: 2801 loss: 45942768.00000000 time: 0.0040s\n",
      "Epoch: 2901 loss: 45884896.00000000 time: 0.0000s\n",
      "Epoch: 3001 loss: 45823924.00000000 time: 0.0000s\n",
      "Epoch: 3101 loss: 45759572.00000000 time: 0.0035s\n",
      "Epoch: 3201 loss: 45691824.00000000 time: 0.0000s\n",
      "Epoch: 3301 loss: 45620312.00000000 time: 0.0040s\n",
      "Epoch: 3401 loss: 45544772.00000000 time: 0.0000s\n",
      "Epoch: 3501 loss: 45464988.00000000 time: 0.0040s\n",
      "Epoch: 3601 loss: 45380608.00000000 time: 0.0040s\n",
      "Epoch: 3701 loss: 45291272.00000000 time: 0.0051s\n",
      "Epoch: 3801 loss: 45196516.00000000 time: 0.0000s\n",
      "Epoch: 3901 loss: 45096176.00000000 time: 0.0031s\n",
      "Epoch: 4001 loss: 44990076.00000000 time: 0.0040s\n",
      "Epoch: 4101 loss: 44878420.00000000 time: 0.0040s\n",
      "Epoch: 4201 loss: 44761600.00000000 time: 0.0040s\n",
      "Epoch: 4301 loss: 44640220.00000000 time: 0.0000s\n",
      "Epoch: 4401 loss: 44514696.00000000 time: 0.0050s\n",
      "Epoch: 4501 loss: 44385600.00000000 time: 0.0000s\n",
      "Epoch: 4601 loss: 44253328.00000000 time: 0.0000s\n",
      "Epoch: 4701 loss: 44117868.00000000 time: 0.0040s\n",
      "Epoch: 4801 loss: 43979108.00000000 time: 0.0000s\n",
      "Epoch: 4901 loss: 43836712.00000000 time: 0.0000s\n",
      "Optimization Finished!\n",
      "Total time elapsed: 17.7289s\n"
     ]
    }
   ],
   "source": [
    "dim=3\n",
    "adj_norm,mu,losses = GraphNeuralNet(adj=adj,dim=dim)"
   ]
  },
  {
   "cell_type": "code",
   "execution_count": 13,
   "metadata": {},
   "outputs": [
    {
     "name": "stdout",
     "output_type": "stream",
     "text": [
      "NMI Score : 0.10165755705220726\n"
     ]
    },
    {
     "data": {
      "image/png": "[encoded data removed]",
      "text/plain": [
       "<Figure size 432x288 with 1 Axes>"
      ]
     },
     "metadata": {
      "needs_background": "light"
     },
     "output_type": "display_data"
    }
   ],
   "source": [
    "plt.plot(losses)\n",
    "nmi = nmi_score(adj_norm[0],mu.reshape(adj_norm.shape[1:]).detach())\n",
    "print(\"NMI Score : {}\".format(nmi))"
   ]
  },
  {
   "cell_type": "code",
   "execution_count": 14,
   "metadata": {},
   "outputs": [
    {
     "name": "stdout",
     "output_type": "stream",
     "text": [
      "Epoch: 0001 loss: 991862097707008.00000000 time: 0.0041s\n",
      "Epoch: 0101 loss: 7727188.50000000 time: 0.0040s\n",
      "Epoch: 0201 loss: 7725298.50000000 time: 0.0000s\n",
      "Epoch: 0301 loss: 7724938.00000000 time: 0.0030s\n",
      "Epoch: 0401 loss: 7724546.50000000 time: 0.0009s\n",
      "Epoch: 0501 loss: 7724083.50000000 time: 0.0040s\n",
      "Epoch: 0601 loss: 7723555.50000000 time: 0.0000s\n",
      "Epoch: 0701 loss: 7722969.50000000 time: 0.0040s\n",
      "Epoch: 0801 loss: 7722318.00000000 time: 0.0040s\n",
      "Epoch: 0901 loss: 7721607.00000000 time: 0.0022s\n",
      "Epoch: 1001 loss: 7720843.00000000 time: 0.0029s\n",
      "Epoch: 1101 loss: 7720020.50000000 time: 0.0000s\n",
      "Epoch: 1201 loss: 7719145.50000000 time: 0.0040s\n",
      "Epoch: 1301 loss: 7718211.00000000 time: 0.0040s\n",
      "Epoch: 1401 loss: 7717196.00000000 time: 0.0040s\n",
      "Epoch: 1501 loss: 7716102.00000000 time: 0.0019s\n",
      "Epoch: 1601 loss: 7714947.50000000 time: 0.0000s\n",
      "Epoch: 1701 loss: 7713709.00000000 time: 0.0040s\n",
      "Epoch: 1801 loss: 7712381.00000000 time: 0.0040s\n",
      "Epoch: 1901 loss: 7710962.00000000 time: 0.0040s\n",
      "Epoch: 2001 loss: 7709443.50000000 time: 0.0040s\n",
      "Epoch: 2101 loss: 7707829.50000000 time: 0.0000s\n",
      "Epoch: 2201 loss: 7706134.00000000 time: 0.0040s\n",
      "Epoch: 2301 loss: 7704337.00000000 time: 0.0000s\n",
      "Epoch: 2401 loss: 7702427.00000000 time: 0.0040s\n",
      "Epoch: 2501 loss: 7700425.50000000 time: 0.0000s\n",
      "Epoch: 2601 loss: 7698303.00000000 time: 0.0040s\n",
      "Epoch: 2701 loss: 7696071.00000000 time: 0.0020s\n",
      "Epoch: 2801 loss: 7693699.50000000 time: 0.0000s\n",
      "Epoch: 2901 loss: 7691194.00000000 time: 0.0040s\n",
      "Epoch: 3001 loss: 7688555.00000000 time: 0.0040s\n",
      "Epoch: 3101 loss: 7685791.00000000 time: 0.0000s\n",
      "Epoch: 3201 loss: 7682888.00000000 time: 0.0009s\n",
      "Epoch: 3301 loss: 7679825.00000000 time: 0.0000s\n",
      "Epoch: 3401 loss: 7676581.50000000 time: 0.0030s\n",
      "Epoch: 3501 loss: 7673174.50000000 time: 0.0041s\n",
      "Epoch: 3601 loss: 7669593.50000000 time: 0.0023s\n",
      "Epoch: 3701 loss: 7665834.00000000 time: 0.0041s\n",
      "Epoch: 3801 loss: 7661893.00000000 time: 0.0048s\n",
      "Epoch: 3901 loss: 7657733.50000000 time: 0.0040s\n",
      "Epoch: 4001 loss: 7653366.50000000 time: 0.0000s\n",
      "Epoch: 4101 loss: 7648756.00000000 time: 0.0040s\n",
      "Epoch: 4201 loss: 7643925.00000000 time: 0.0000s\n",
      "Epoch: 4301 loss: 7638845.50000000 time: 0.0000s\n",
      "Epoch: 4401 loss: 7633504.50000000 time: 0.0061s\n",
      "Epoch: 4501 loss: 7627894.00000000 time: 0.0040s\n",
      "Epoch: 4601 loss: 7622001.50000000 time: 0.0040s\n",
      "Epoch: 4701 loss: 7615806.50000000 time: 0.0045s\n",
      "Epoch: 4801 loss: 7609308.50000000 time: 0.0040s\n",
      "Epoch: 4901 loss: 7602488.00000000 time: 0.0040s\n",
      "Optimization Finished!\n",
      "Total time elapsed: 13.6145s\n"
     ]
    }
   ],
   "source": [
    "dim=4\n",
    "adj_norm,mu,losses = GraphNeuralNet(adj=adj,dim=dim)"
   ]
  },
  {
   "cell_type": "code",
   "execution_count": 15,
   "metadata": {},
   "outputs": [
    {
     "name": "stdout",
     "output_type": "stream",
     "text": [
      "NMI Score : 0.0822005110890496\n"
     ]
    },
    {
     "data": {
      "image/png": "[encoded data removed]",
      "text/plain": [
       "<Figure size 432x288 with 1 Axes>"
      ]
     },
     "metadata": {
      "needs_background": "light"
     },
     "output_type": "display_data"
    }
   ],
   "source": [
    "plt.plot(losses)\n",
    "nmi = nmi_score(adj_norm[0],mu.reshape(adj_norm.shape[1:]).detach())\n",
    "print(\"NMI Score : {}\".format(nmi))"
   ]
  },
  {
   "cell_type": "code",
   "execution_count": null,
   "metadata": {},
   "outputs": [],
   "source": []
  }
 ],
 "metadata": {
  "kernelspec": {
   "display_name": "Python 3",
   "language": "python",
   "name": "python3"
  },
  "language_info": {
   "codemirror_mode": {
    "name": "ipython",
    "version": 3
   },
   "file_extension": ".py",
   "mimetype": "text/x-python",
   "name": "python",
   "nbconvert_exporter": "python",
   "pygments_lexer": "ipython3",
   "version": "3.8.7"
  }
 },
 "nbformat": 4,
 "nbformat_minor": 4
}
